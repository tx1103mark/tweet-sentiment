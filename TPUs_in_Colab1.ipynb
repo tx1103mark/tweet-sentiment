{
  "nbformat": 4,
  "nbformat_minor": 0,
  "metadata": {
    "colab": {
      "name": "TPUs in Colab",
      "provenance": [],
      "collapsed_sections": [
        "clSFHJkFNylD"
      ],
      "include_colab_link": true
    },
    "kernelspec": {
      "display_name": "Python 3",
      "name": "python3"
    },
    "accelerator": "TPU"
  },
  "cells": [
    {
      "cell_type": "markdown",
      "metadata": {
        "id": "view-in-github",
        "colab_type": "text"
      },
      "source": [
        "<a href=\"https://colab.research.google.com/github/tx1103mark/tweet-sentiment/blob/master/TPUs_in_Colab1.ipynb\" target=\"_parent\"><img src=\"https://colab.research.google.com/assets/colab-badge.svg\" alt=\"Open In Colab\"/></a>"
      ]
    },
    {
      "cell_type": "markdown",
      "metadata": {
        "id": "ovFDeMgtjqW4"
      },
      "source": [
        "# TPUs in Colab&nbsp; <a href=\"https://cloud.google.com/tpu/\"><img valign=\"middle\" src=\"https://raw.githubusercontent.com/GoogleCloudPlatform/tensorflow-without-a-phd/master/tensorflow-rl-pong/images/tpu-hexagon.png\" width=\"50\"></a>\n",
        "In this example, we'll work through training a model to classify images of\n",
        "flowers on Google's lightning-fast Cloud TPUs. Our model will take as input a photo of a flower and return whether it is a daisy, dandelion, rose, sunflower, or tulip.\n",
        "\n",
        "We use the Keras framework, new to TPUs in TF 2.1.0. Adapted from [this notebook](https://colab.research.google.com/github/GoogleCloudPlatform/training-data-analyst/blob/master/courses/fast-and-lean-data-science/07_Keras_Flowers_TPU_xception_fine_tuned_best.ipynb) by [Martin Gorner](https://twitter.com/martin_gorner)."
      ]
    },
    {
      "cell_type": "markdown",
      "metadata": {
        "id": "clSFHJkFNylD"
      },
      "source": [
        "#### License"
      ]
    },
    {
      "cell_type": "markdown",
      "metadata": {
        "id": "hleIN5-pcr0N"
      },
      "source": [
        "Copyright 2019-2020 Google LLC\n",
        "\n",
        "Licensed under the Apache License, Version 2.0 (the \"License\");\n",
        "you may not use this file except in compliance with the License.\n",
        "You may obtain a copy of the License at\n",
        "\n",
        "    http://www.apache.org/licenses/LICENSE-2.0\n",
        "\n",
        "Unless required by applicable law or agreed to in writing, software\n",
        "distributed under the License is distributed on an \"AS IS\" BASIS,\n",
        "WITHOUT WARRANTIES OR CONDITIONS OF ANY KIND, either express or implied.\n",
        "See the License for the specific language governing permissions and\n",
        "limitations under the License.\n",
        "\n",
        "\n",
        "---\n",
        "\n",
        "\n",
        "This is not an official Google product but sample code provided for an educational purpose.\n"
      ]
    },
    {
      "cell_type": "markdown",
      "metadata": {
        "id": "_pQCOmISAQBu"
      },
      "source": [
        "## Enabling and testing the TPU\n",
        "\n",
        "First, you'll need to enable TPUs for the notebook:\n",
        "\n",
        "- Navigate to Edit→Notebook Settings\n",
        "- select TPU from the Hardware Accelerator drop-down\n",
        "\n",
        "Next, we'll check that we can connect to the TPU:"
      ]
    },
    {
      "cell_type": "markdown",
      "metadata": {
        "id": "BIR6iAnttgJk"
      },
      "source": [
        "#Data process"
      ]
    },
    {
      "cell_type": "code",
      "metadata": {
        "id": "lrp9xVpx10jz"
      },
      "source": [
        "diff --git a/mindspore/lite/src/dequant.h b/mindspore/lite/src/dequant.h\n",
        "index 114cb4f..f20e3ce 100644\n",
        "--- a/mindspore/lite/src/dequant.h\n",
        "+++ b/mindspore/lite/src/dequant.h\n",
        "@@ -40,23 +40,19 @@ class DequantUtil {\n",
        "   static void RestoreTensorData(const std::map<Tensor *, std::pair<TypeId, void *>> &tensor_origin_data_map);\n",
        " \n",
        "   template <typename ST, typename DT = float>\n",
        "-  static bool IsPerBatch(lite::Tensor *input_tensor, ST *quant_datas, DT *dequant_datas) {\n",
        "-    if (input_tensor->shape().size() == kPerBatch &&\n",
        "-        input_tensor->quant_params().size() == static_cast<size_t>(input_tensor->shape().at(0))) {  // per batch matmul\n",
        "-      auto per_batch_size = input_tensor->shape().at(0);\n",
        "-      auto quant_param = input_tensor->quant_params();\n",
        "-      for (int i = 0; i < per_batch_size; i++) {\n",
        "-        auto param = quant_param.at(i);\n",
        "-        auto scale = param.scale;\n",
        "-        auto zero_point = param.zeroPoint;\n",
        "-        auto matrix_size = input_tensor->ElementsNum() / per_batch_size;\n",
        "-        for (int64_t j = 0; j < matrix_size; j++) {\n",
        "-          dequant_datas[i * matrix_size + j] = static_cast<DT>((quant_datas[i * matrix_size + j] - zero_point) * scale);\n",
        "-        }\n",
        "+  static DT *DequantPerBatch(lite::Tensor *input_tensor, ST *quant_datas, DT *dequant_datas) {\n",
        "+    auto per_batch_size = input_tensor->shape().at(0);\n",
        "+    auto quant_param = input_tensor->quant_params();\n",
        "+    for (int i = 0; i < per_batch_size; i++) {\n",
        "+      auto param = quant_param.at(i);\n",
        "+      auto scale = param.scale;\n",
        "+      auto zero_point = param.zeroPoint;\n",
        "+      auto matrix_size = input_tensor->ElementsNum() / per_batch_size;\n",
        "+      for (int64_t j = 0; j < matrix_size; j++) {\n",
        "+        dequant_datas[i * matrix_size + j] = static_cast<DT>((quant_datas[i * matrix_size + j] - zero_point) * scale);\n",
        "       }\n",
        "-      return true;\n",
        "     }\n",
        "-    return false;\n",
        "+    return dequant_datas;\n",
        "   }\n",
        "   template <typename ST, typename DT = float>\n",
        "   static DT *DequantPerChannel(lite::Tensor *input_tensor, ST *quant_datas, DT *dequant_datas, bool channel_first) {\n",
        "@@ -109,7 +105,10 @@ class DequantUtil {\n",
        "       MS_LOG(ERROR) << \"Malloc failed.\";\n",
        "       return nullptr;\n",
        "     }\n",
        "-    if (!IsPerBatch(input_tensor, quant_datas, dequant_datas) && input_tensor->quant_params().size() != kPerTensor) {\n",
        "+    if (input_tensor->shape().size() == kPerBatch &&\n",
        "+        input_tensor->quant_params().size() == static_cast<size_t>(input_tensor->shape().at(0))) {  // per batch matmul\n",
        "+      return DequantPerBatch(input_tensor, quant_datas, dequant_datas);\n",
        "+    } else if (input_tensor->quant_params().size() != kPerTensor) {\n",
        "       return DequantPerChannel(input_tensor, quant_datas, dequant_datas, channel_first);\n",
        "     } else {\n",
        "       auto quant_param = input_tensor->quant_params();\n"
      ],
      "execution_count": null,
      "outputs": []
    }
  ]
}