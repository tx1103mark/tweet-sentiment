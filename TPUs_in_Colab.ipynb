{
  "nbformat": 4,
  "nbformat_minor": 0,
  "metadata": {
    "colab": {
      "name": "TPUs in Colab",
      "provenance": [],
      "collapsed_sections": [
        "clSFHJkFNylD"
      ],
      "include_colab_link": true
    },
    "kernelspec": {
      "display_name": "Python 3",
      "name": "python3"
    },
    "accelerator": "TPU"
  },
  "cells": [
    {
      "cell_type": "markdown",
      "metadata": {
        "id": "view-in-github",
        "colab_type": "text"
      },
      "source": [
        "<a href=\"https://colab.research.google.com/github/tx1103mark/tweet-sentiment/blob/master/TPUs_in_Colab.ipynb\" target=\"_parent\"><img src=\"https://colab.research.google.com/assets/colab-badge.svg\" alt=\"Open In Colab\"/></a>"
      ]
    },
    {
      "cell_type": "markdown",
      "metadata": {
        "id": "ovFDeMgtjqW4"
      },
      "source": [
        "# TPUs in Colab&nbsp; <a href=\"https://cloud.google.com/tpu/\"><img valign=\"middle\" src=\"https://raw.githubusercontent.com/GoogleCloudPlatform/tensorflow-without-a-phd/master/tensorflow-rl-pong/images/tpu-hexagon.png\" width=\"50\"></a>\n",
        "In this example, we'll work through training a model to classify images of\n",
        "flowers on Google's lightning-fast Cloud TPUs. Our model will take as input a photo of a flower and return whether it is a daisy, dandelion, rose, sunflower, or tulip.\n",
        "\n",
        "We use the Keras framework, new to TPUs in TF 2.1.0. Adapted from [this notebook](https://colab.research.google.com/github/GoogleCloudPlatform/training-data-analyst/blob/master/courses/fast-and-lean-data-science/07_Keras_Flowers_TPU_xception_fine_tuned_best.ipynb) by [Martin Gorner](https://twitter.com/martin_gorner)."
      ]
    },
    {
      "cell_type": "markdown",
      "metadata": {
        "id": "clSFHJkFNylD"
      },
      "source": [
        "#### License"
      ]
    },
    {
      "cell_type": "markdown",
      "metadata": {
        "id": "hleIN5-pcr0N"
      },
      "source": [
        "Copyright 2019-2020 Google LLC\n",
        "\n",
        "Licensed under the Apache License, Version 2.0 (the \"License\");\n",
        "you may not use this file except in compliance with the License.\n",
        "You may obtain a copy of the License at\n",
        "\n",
        "    http://www.apache.org/licenses/LICENSE-2.0\n",
        "\n",
        "Unless required by applicable law or agreed to in writing, software\n",
        "distributed under the License is distributed on an \"AS IS\" BASIS,\n",
        "WITHOUT WARRANTIES OR CONDITIONS OF ANY KIND, either express or implied.\n",
        "See the License for the specific language governing permissions and\n",
        "limitations under the License.\n",
        "\n",
        "\n",
        "---\n",
        "\n",
        "\n",
        "This is not an official Google product but sample code provided for an educational purpose.\n"
      ]
    },
    {
      "cell_type": "markdown",
      "metadata": {
        "id": "_pQCOmISAQBu"
      },
      "source": [
        "## Enabling and testing the TPU\n",
        "\n",
        "First, you'll need to enable TPUs for the notebook:\n",
        "\n",
        "- Navigate to Edit→Notebook Settings\n",
        "- select TPU from the Hardware Accelerator drop-down\n",
        "\n",
        "Next, we'll check that we can connect to the TPU:"
      ]
    },
    {
      "cell_type": "markdown",
      "metadata": {
        "id": "BIR6iAnttgJk"
      },
      "source": [
        "#Data process"
      ]
    },
    {
      "cell_type": "code",
      "metadata": {
        "id": "ylrH_8z3-cYW"
      },
      "source": [
        "From 1e6317c155b1254d6af3f9e244635c0340f1828e Mon Sep 17 00:00:00 2001\n",
        "From: zhengjun10 <zhengjun10@huawei.com>\n",
        "Date: Thu, 15 Jul 2021 20:59:17 +0800\n",
        "Subject: [PATCH] fix lite trai issue\n",
        "\n",
        "---\n",
        " mindspore/lite/src/lite_model.cc          | 2 +-\n",
        " mindspore/lite/src/train/train_session.cc | 8 ++++++++\n",
        " 2 files changed, 9 insertions(+), 1 deletion(-)\n",
        "\n",
        "diff --git a/mindspore/lite/src/lite_model.cc b/mindspore/lite/src/lite_model.cc\n",
        "index 83c19e9..39c1e8b 100644\n",
        "--- a/mindspore/lite/src/lite_model.cc\n",
        "+++ b/mindspore/lite/src/lite_model.cc\n",
        "@@ -431,7 +431,7 @@ Model *Model::Import(const char *filename) {\n",
        "   if (buf == nullptr) {\n",
        "     return nullptr;\n",
        "   }\n",
        "-  return ImportFromBuffer(buf, size, false);\n",
        "+  return ImportFromBuffer(buf, size, true);\n",
        " }\n",
        " \n",
        " int Model::Export(Model *model, char *buffer, size_t *len) {\n",
        "diff --git a/mindspore/lite/src/train/train_session.cc b/mindspore/lite/src/train/train_session.cc\n",
        "index 2bd1118..9da76cc 100644\n",
        "--- a/mindspore/lite/src/train/train_session.cc\n",
        "+++ b/mindspore/lite/src/train/train_session.cc\n",
        "@@ -676,6 +676,14 @@ int TrainSession::Export(const std::string &file_name, ModelType model_type, Qua\n",
        "     MS_LOG(ERROR) << \"File name cannot be empty\";\n",
        "     return RET_ERROR;\n",
        "   }\n",
        "+  if (model_type > mindspore::lite::MT_INFERENCE || model_type < mindspore::lite::MT_TRAIN) {\n",
        "+    MS_LOG(ERROR) << \"Export model type parameter error\";\n",
        "+    return RET_ERROR;\n",
        "+  }\n",
        "+  if (quant_type < mindspore::lite::QT_DEFAULT || quant_type > mindspore::lite::QT_WEIGHT) {\n",
        "+    MS_LOG(ERROR) << \"Export quant type parameter error\";\n",
        "+    return RET_ERROR;\n",
        "+  }\n",
        "   if (format != FT_FLATBUFFERS) {\n",
        "     MS_LOG(ERROR) << \"Currently only flatbuffer format is supported\";\n",
        "     return RET_ERROR;\n",
        "-- \n",
        "2.7.4\n",
        "\n"
      ],
      "execution_count": null,
      "outputs": []
    }
  ]
}