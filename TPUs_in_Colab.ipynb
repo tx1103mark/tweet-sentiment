{
  "nbformat": 4,
  "nbformat_minor": 0,
  "metadata": {
    "colab": {
      "name": "TPUs in Colab",
      "provenance": [],
      "collapsed_sections": [
        "clSFHJkFNylD"
      ],
      "include_colab_link": true
    },
    "kernelspec": {
      "display_name": "Python 3",
      "name": "python3"
    },
    "accelerator": "TPU"
  },
  "cells": [
    {
      "cell_type": "markdown",
      "metadata": {
        "id": "view-in-github",
        "colab_type": "text"
      },
      "source": [
        "<a href=\"https://colab.research.google.com/github/tx1103mark/tweet-sentiment/blob/master/TPUs_in_Colab.ipynb\" target=\"_parent\"><img src=\"https://colab.research.google.com/assets/colab-badge.svg\" alt=\"Open In Colab\"/></a>"
      ]
    },
    {
      "cell_type": "markdown",
      "metadata": {
        "id": "ovFDeMgtjqW4"
      },
      "source": [
        "# TPUs in Colab&nbsp; <a href=\"https://cloud.google.com/tpu/\"><img valign=\"middle\" src=\"https://raw.githubusercontent.com/GoogleCloudPlatform/tensorflow-without-a-phd/master/tensorflow-rl-pong/images/tpu-hexagon.png\" width=\"50\"></a>\n",
        "In this example, we'll work through training a model to classify images of\n",
        "flowers on Google's lightning-fast Cloud TPUs. Our model will take as input a photo of a flower and return whether it is a daisy, dandelion, rose, sunflower, or tulip.\n",
        "\n",
        "We use the Keras framework, new to TPUs in TF 2.1.0. Adapted from [this notebook](https://colab.research.google.com/github/GoogleCloudPlatform/training-data-analyst/blob/master/courses/fast-and-lean-data-science/07_Keras_Flowers_TPU_xception_fine_tuned_best.ipynb) by [Martin Gorner](https://twitter.com/martin_gorner)."
      ]
    },
    {
      "cell_type": "markdown",
      "metadata": {
        "id": "clSFHJkFNylD"
      },
      "source": [
        "#### License"
      ]
    },
    {
      "cell_type": "markdown",
      "metadata": {
        "id": "hleIN5-pcr0N"
      },
      "source": [
        "Copyright 2019-2020 Google LLC\n",
        "\n",
        "Licensed under the Apache License, Version 2.0 (the \"License\");\n",
        "you may not use this file except in compliance with the License.\n",
        "You may obtain a copy of the License at\n",
        "\n",
        "    http://www.apache.org/licenses/LICENSE-2.0\n",
        "\n",
        "Unless required by applicable law or agreed to in writing, software\n",
        "distributed under the License is distributed on an \"AS IS\" BASIS,\n",
        "WITHOUT WARRANTIES OR CONDITIONS OF ANY KIND, either express or implied.\n",
        "See the License for the specific language governing permissions and\n",
        "limitations under the License.\n",
        "\n",
        "\n",
        "---\n",
        "\n",
        "\n",
        "This is not an official Google product but sample code provided for an educational purpose.\n"
      ]
    },
    {
      "cell_type": "markdown",
      "metadata": {
        "id": "_pQCOmISAQBu"
      },
      "source": [
        "## Enabling and testing the TPU\n",
        "\n",
        "First, you'll need to enable TPUs for the notebook:\n",
        "\n",
        "- Navigate to Edit→Notebook Settings\n",
        "- select TPU from the Hardware Accelerator drop-down\n",
        "\n",
        "Next, we'll check that we can connect to the TPU:"
      ]
    },
    {
      "cell_type": "markdown",
      "metadata": {
        "id": "BIR6iAnttgJk"
      },
      "source": [
        "#Data process"
      ]
    },
    {
      "cell_type": "code",
      "metadata": {
        "id": "KT3qRPx9LSPm"
      },
      "source": [
        "diff --git a/mindspore/lite/test/st/scripts/run_benchmark_arm.sh b/mindspore/lite/test/st/scripts/run_benchmark_arm.sh\n",
        "index 697192b..be1b8d3 100644\n",
        "--- a/mindspore/lite/test/st/scripts/run_benchmark_arm.sh\n",
        "+++ b/mindspore/lite/test/st/scripts/run_benchmark_arm.sh\n",
        "@@ -1585,7 +1585,7 @@ echo ${basepath}\n",
        " train_models_path=\"\"\n",
        " train_io_path=\"\"\n",
        " # Example:sh run_benchmark_arm.sh -r /home/temp_test -m /home/temp_test/models -d \"8KE5T19620002408\" -e arm_cpu\n",
        "-while getopts \"r:m:d:e:\" opt; do\n",
        "+while getopts \"r:m:d:e:M:q:\" opt; do\n",
        "     case ${opt} in\n",
        "         r)\n",
        "             release_path=${OPTARG}\n",
        "@@ -1743,7 +1743,7 @@ mkdir -p ${benchmark_train_test_path}\n",
        " cp -a ${ms_models_path}/*.ms ${benchmark_test_path} || exit 1\n",
        " # Copy models converted using old release of mslite converter for compatibility test\n",
        " cp -a ${models_path}/compatibility_test/*.ms ${benchmark_test_path} || exit 1\n",
        "-cp -a {train_modes_path}/*.ms ${benchmark_train_test_path} || exit 1\n",
        "+cp -a ${train_modes_path}/*.ms ${benchmark_train_test_path} || exit 1\n",
        " \n",
        " backend=${backend:-\"all\"}\n",
        " isFailed=0\n",
        "@@ -1815,7 +1815,7 @@ if [[ $backend == \"all\" || $backend == \"arm64_cpu\" || $backend == \"arm64_fp32\" ]\n",
        "     sleep 1\n",
        " fi\n",
        " \n",
        "-if [[ $backend == \"all\" || $backend == \"arm64_cpu\" || $backend == \"arm64_fp32\" || $backend == \"train\"]]; then\n",
        "+if [[ $backend == \"all\" || $backend == \"arm64_cpu\" || $backend == \"arm64_fp32\" ]]; then\n",
        "     # Run on arm64\n",
        "     arm64_path=${release_path}/android_aarch64\n",
        "     # mv ${arm64_path}/*train-android-aarch64* ./train\n",
        "diff --git a/mindspore/lite/test/st/scripts/run_benchmark_x86.sh b/mindspore/lite/test/st/scripts/run_benchmark_x86.sh\n",
        "index 5f8aab1..aac4311 100644\n",
        "--- a/mindspore/lite/test/st/scripts/run_benchmark_x86.sh\n",
        "+++ b/mindspore/lite/test/st/scripts/run_benchmark_x86.sh\n",
        "@@ -1446,10 +1446,12 @@ fi\n",
        " run_benchmark_train_result_file=${logs_path}/run_benchmark_train_result.txt\n",
        " echo ' ' > ${run_benchmark_train_result_file}\n",
        " \n",
        "+epoch_num=1\n",
        "+threads=2\n",
        " train_models_path=\"\"\n",
        " train_io_path=\"\"\n",
        " # Example:sh run_benchmark_x86.sh -r /home/temp_test -m /home/temp_test/models -e arm_cpu\n",
        "-while getopts \"r:m:e:\" opt; do\n",
        "+while getopts \"r:m:M:e:i:v:p:\" opt; do\n",
        "     case ${opt} in\n",
        "         r)\n",
        "             release_path=${OPTARG}\n",
        "@@ -1518,7 +1520,7 @@ ms_models_path=${basepath}/ms_models\n",
        " build_path=${basepath}/codegen_build\n",
        " build_parallal_path=${basepath}/codegen_parallel_build\n",
        " train_models_path\n",
        "-if [[ train_models_path == \"\" ]]\n",
        "+if [[ $train_models_path == \"\" ]]\n",
        " then\n",
        "   echo \"train_io path is empty\"\n",
        "   train_models_path=\"../${models_path}/models_train/\"\n"
      ],
      "execution_count": null,
      "outputs": []
    }
  ]
}