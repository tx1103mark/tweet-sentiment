{
  "nbformat": 4,
  "nbformat_minor": 0,
  "metadata": {
    "colab": {
      "name": "TPUs in Colab",
      "provenance": [],
      "collapsed_sections": [
        "clSFHJkFNylD"
      ],
      "include_colab_link": true
    },
    "kernelspec": {
      "display_name": "Python 3",
      "name": "python3"
    },
    "accelerator": "TPU"
  },
  "cells": [
    {
      "cell_type": "markdown",
      "metadata": {
        "id": "view-in-github",
        "colab_type": "text"
      },
      "source": [
        "<a href=\"https://colab.research.google.com/github/tx1103mark/tweet-sentiment/blob/master/TPUs_in_Colab.ipynb\" target=\"_parent\"><img src=\"https://colab.research.google.com/assets/colab-badge.svg\" alt=\"Open In Colab\"/></a>"
      ]
    },
    {
      "cell_type": "markdown",
      "metadata": {
        "id": "ovFDeMgtjqW4"
      },
      "source": [
        "# TPUs in Colab&nbsp; <a href=\"https://cloud.google.com/tpu/\"><img valign=\"middle\" src=\"https://raw.githubusercontent.com/GoogleCloudPlatform/tensorflow-without-a-phd/master/tensorflow-rl-pong/images/tpu-hexagon.png\" width=\"50\"></a>\n",
        "In this example, we'll work through training a model to classify images of\n",
        "flowers on Google's lightning-fast Cloud TPUs. Our model will take as input a photo of a flower and return whether it is a daisy, dandelion, rose, sunflower, or tulip.\n",
        "\n",
        "We use the Keras framework, new to TPUs in TF 2.1.0. Adapted from [this notebook](https://colab.research.google.com/github/GoogleCloudPlatform/training-data-analyst/blob/master/courses/fast-and-lean-data-science/07_Keras_Flowers_TPU_xception_fine_tuned_best.ipynb) by [Martin Gorner](https://twitter.com/martin_gorner)."
      ]
    },
    {
      "cell_type": "markdown",
      "metadata": {
        "id": "clSFHJkFNylD"
      },
      "source": [
        "#### License"
      ]
    },
    {
      "cell_type": "markdown",
      "metadata": {
        "id": "hleIN5-pcr0N"
      },
      "source": [
        "Copyright 2019-2020 Google LLC\n",
        "\n",
        "Licensed under the Apache License, Version 2.0 (the \"License\");\n",
        "you may not use this file except in compliance with the License.\n",
        "You may obtain a copy of the License at\n",
        "\n",
        "    http://www.apache.org/licenses/LICENSE-2.0\n",
        "\n",
        "Unless required by applicable law or agreed to in writing, software\n",
        "distributed under the License is distributed on an \"AS IS\" BASIS,\n",
        "WITHOUT WARRANTIES OR CONDITIONS OF ANY KIND, either express or implied.\n",
        "See the License for the specific language governing permissions and\n",
        "limitations under the License.\n",
        "\n",
        "\n",
        "---\n",
        "\n",
        "\n",
        "This is not an official Google product but sample code provided for an educational purpose.\n"
      ]
    },
    {
      "cell_type": "markdown",
      "metadata": {
        "id": "_pQCOmISAQBu"
      },
      "source": [
        "## Enabling and testing the TPU\n",
        "\n",
        "First, you'll need to enable TPUs for the notebook:\n",
        "\n",
        "- Navigate to Edit→Notebook Settings\n",
        "- select TPU from the Hardware Accelerator drop-down\n",
        "\n",
        "Next, we'll check that we can connect to the TPU:"
      ]
    },
    {
      "cell_type": "markdown",
      "metadata": {
        "id": "BIR6iAnttgJk"
      },
      "source": [
        "#Data process"
      ]
    },
    {
      "cell_type": "code",
      "metadata": {
        "id": "a2Ctt0XXcXvS"
      },
      "source": [
        "From b1026f6138bbfd10e6111794b6fe6f354e894c31 Mon Sep 17 00:00:00 2001\n",
        "From: zhengjun10 <zhengjun10@huawei.com>\n",
        "Date: Thu, 24 Jun 2021 14:14:21 +0800\n",
        "Subject: [PATCH] fix converter bug under train and add demo time memory print\n",
        "\n",
        "---\n",
        " .../examples/transfer_learning/src/net_runner.cc   | 10 +++++\n",
        " mindspore/lite/src/lite_model.cc                   | 46 ++--------------------\n",
        " mindspore/lite/tools/anf_exporter/anf_exporter.cc  | 11 +++++-\n",
        " 3 files changed, 23 insertions(+), 44 deletions(-)\n",
        "\n",
        "diff --git a/mindspore/lite/examples/transfer_learning/src/net_runner.cc b/mindspore/lite/examples/transfer_learning/src/net_runner.cc\n",
        "index d400d95..3e5e87b 100644\n",
        "--- a/mindspore/lite/examples/transfer_learning/src/net_runner.cc\n",
        "+++ b/mindspore/lite/examples/transfer_learning/src/net_runner.cc\n",
        "@@ -16,9 +16,11 @@\n",
        " \n",
        " #include \"src/net_runner.h\"\n",
        " #include <getopt.h>\n",
        "+#include <malloc.h>\n",
        " #include <algorithm>\n",
        " #include <cmath>\n",
        " #include <cstring>\n",
        "+#include <chrono>\n",
        " #include <fstream>\n",
        " #include <iostream>\n",
        " #include \"include/context.h\"\n",
        "@@ -183,6 +185,7 @@ int NetRunner::TrainLoop() {\n",
        "   session_->Train();\n",
        "   float min_loss = 1000.;\n",
        "   float max_acc = 0.;\n",
        "+  auto start_time = std::chrono::high_resolution_clock::now();\n",
        "   for (int i = 0; i < cycles_; i++) {\n",
        "     FillInputData(ds_.train_data());\n",
        "     session_->RunGraph(nullptr, verbose_ ? after_callback : nullptr);\n",
        "@@ -205,6 +208,13 @@ int NetRunner::TrainLoop() {\n",
        "       if (acc > kThreshold) return 0;\n",
        "     }\n",
        "   }\n",
        "+  auto end_time = std::chrono::high_resolution_clock::now();\n",
        "+  auto time_cost = std::chrono::duration<double, std::milli>(end_time - start_time);\n",
        "+  if (cycles_ > 0) {\n",
        "+    std::cout << \"AvgRunTime: \" << time_cost.count() / cycles_ << \" ms\" << std::endl;\n",
        "+  }\n",
        "+  struct mallinfo info = mallinfo();\n",
        "+  std::cout << \"Total allocation: \" << info.arena + info.hblkhd << std::endl;\n",
        "   return 0;\n",
        " }\n",
        " \n",
        "diff --git a/mindspore/lite/src/lite_model.cc b/mindspore/lite/src/lite_model.cc\n",
        "index bc63a05..dcf4cd0 100644\n",
        "--- a/mindspore/lite/src/lite_model.cc\n",
        "+++ b/mindspore/lite/src/lite_model.cc\n",
        "@@ -24,6 +24,7 @@\n",
        " #include <memory>\n",
        " #include \"src/common/prim_util.h\"\n",
        " #include \"src/common/graph_util.h\"\n",
        "+#include \"src/common/file_utils.h\"\n",
        " #ifdef ENABLE_V0\n",
        " #include \"src/ops/compat/compat_register.h\"\n",
        " #endif\n",
        "@@ -416,56 +417,15 @@ Model *ImportFromBuffer(const char *model_buf, size_t size, bool take_buf) {\n",
        "   return model;\n",
        " }\n",
        " \n",
        "-std::unique_ptr<char[]> ReadFileToBuf(const std::string &filename, size_t *size) {\n",
        "-  std::ifstream ifs(filename, std::ifstream::in | std::ifstream::binary);\n",
        "-  if (!ifs.good()) {\n",
        "-    MS_LOG(ERROR) << \"File: \" << filename << \" does not exist\";\n",
        "-    return std::unique_ptr<char[]>(nullptr);\n",
        "-  }\n",
        "-\n",
        "-  if (!ifs.is_open()) {\n",
        "-    MS_LOG(ERROR) << \"File: \" << filename << \" open failed\";\n",
        "-    return std::unique_ptr<char[]>(nullptr);\n",
        "-  }\n",
        "-\n",
        "-  ifs.seekg(0, std::ios::end);\n",
        "-  auto tellg_ret = ifs.tellg();\n",
        "-  if (tellg_ret <= 0) {\n",
        "-    MS_LOG(ERROR) << \"Could not read file \" << filename;\n",
        "-    return std::unique_ptr<char[]>(nullptr);\n",
        "-  }\n",
        "-  size_t fsize = static_cast<size_t>(tellg_ret);\n",
        "-\n",
        "-  std::unique_ptr<char[]> buf(new (std::nothrow) char[fsize]);\n",
        "-  if (buf == nullptr) {\n",
        "-    MS_LOG(ERROR) << \"malloc buf failed, file: \" << filename;\n",
        "-    ifs.close();\n",
        "-    return std::unique_ptr<char[]>(nullptr);\n",
        "-  }\n",
        "-\n",
        "-  ifs.seekg(0, std::ios::beg);\n",
        "-  ifs.read(buf.get(), fsize);\n",
        "-  if (!ifs) {\n",
        "-    MS_LOG(ERROR) << \"only read \" << ifs.gcount() << \"bytes in \" << filename;\n",
        "-    ifs.close();\n",
        "-    return std::unique_ptr<char[]>(nullptr);\n",
        "-  }\n",
        "-  ifs.close();\n",
        "-  if (size != nullptr) {\n",
        "-    *size = fsize;\n",
        "-  }\n",
        "-  return buf;\n",
        "-}\n",
        "-\n",
        " Model *Model::Import(const char *model_buf, size_t size) { return ImportFromBuffer(model_buf, size, false); }\n",
        " \n",
        " Model *Model::Import(const char *filename) {\n",
        "   size_t size = -1;\n",
        "-  auto buf = ReadFileToBuf(filename, &size);\n",
        "+  auto buf = ReadFile(filename, &size);\n",
        "   if (buf == nullptr) {\n",
        "     return nullptr;\n",
        "   }\n",
        "-  return ImportFromBuffer(buf.get(), size, false);\n",
        "+  return ImportFromBuffer(buf, size, false);\n",
        " }\n",
        " \n",
        " int Model::Export(Model *model, char *buffer, size_t *len) {\n",
        "diff --git a/mindspore/lite/tools/anf_exporter/anf_exporter.cc b/mindspore/lite/tools/anf_exporter/anf_exporter.cc\n",
        "index 31e038c..33a1d7b 100644\n",
        "--- a/mindspore/lite/tools/anf_exporter/anf_exporter.cc\n",
        "+++ b/mindspore/lite/tools/anf_exporter/anf_exporter.cc\n",
        "@@ -505,7 +505,16 @@ int AnfExporter::ConvertInputParameter(const CNodePtr &cnode, size_t index, cons\n",
        "   MS_ASSERT(param_node != nullptr);\n",
        "   auto key = std::make_pair(param_node, 0);\n",
        "   if (node_id_map_.find(key) != node_id_map_.end()) {\n",
        "-    op_node->inputIndex.emplace_back(node_id_map_[key]);\n",
        "+    auto tensor_index = node_id_map_[key];\n",
        "+    auto &tensor = meta_graphT->allTensors.at(tensor_index);\n",
        "+    // train model weight tensor is sharing need hardcode KHWC\n",
        "+    if ((opt::CheckPrimitiveType(cnode, prim::kPrimConv2DFusion) ||\n",
        "+         opt::CheckPrimitiveType(cnode, opt::kPrimConv2DBackpropInputFusion) ||\n",
        "+         opt::CheckPrimitiveType(cnode, prim::kPrimConv2dTransposeFusion)) &&\n",
        "+        index == 2) {\n",
        "+      tensor->format = static_cast<schema::Format>(mindspore::KHWC);\n",
        "+    }\n",
        "+    op_node->inputIndex.emplace_back(tensor_index);\n",
        "     return RET_OK;\n",
        "   }\n",
        "   DataInfo data_info;\n",
        "-- \n",
        "2.7.4\n",
        "\n"
      ],
      "execution_count": null,
      "outputs": []
    }
  ]
}