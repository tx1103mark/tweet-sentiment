{
  "nbformat": 4,
  "nbformat_minor": 0,
  "metadata": {
    "colab": {
      "name": "TPUs in Colab",
      "provenance": [],
      "collapsed_sections": [
        "clSFHJkFNylD"
      ],
      "include_colab_link": true
    },
    "kernelspec": {
      "display_name": "Python 3",
      "name": "python3"
    },
    "accelerator": "TPU"
  },
  "cells": [
    {
      "cell_type": "markdown",
      "metadata": {
        "id": "view-in-github",
        "colab_type": "text"
      },
      "source": [
        "<a href=\"https://colab.research.google.com/github/tx1103mark/tweet-sentiment/blob/master/TPUs_in_Colab.ipynb\" target=\"_parent\"><img src=\"https://colab.research.google.com/assets/colab-badge.svg\" alt=\"Open In Colab\"/></a>"
      ]
    },
    {
      "cell_type": "markdown",
      "metadata": {
        "id": "ovFDeMgtjqW4"
      },
      "source": [
        "# TPUs in Colab&nbsp; <a href=\"https://cloud.google.com/tpu/\"><img valign=\"middle\" src=\"https://raw.githubusercontent.com/GoogleCloudPlatform/tensorflow-without-a-phd/master/tensorflow-rl-pong/images/tpu-hexagon.png\" width=\"50\"></a>\n",
        "In this example, we'll work through training a model to classify images of\n",
        "flowers on Google's lightning-fast Cloud TPUs. Our model will take as input a photo of a flower and return whether it is a daisy, dandelion, rose, sunflower, or tulip.\n",
        "\n",
        "We use the Keras framework, new to TPUs in TF 2.1.0. Adapted from [this notebook](https://colab.research.google.com/github/GoogleCloudPlatform/training-data-analyst/blob/master/courses/fast-and-lean-data-science/07_Keras_Flowers_TPU_xception_fine_tuned_best.ipynb) by [Martin Gorner](https://twitter.com/martin_gorner)."
      ]
    },
    {
      "cell_type": "markdown",
      "metadata": {
        "id": "clSFHJkFNylD"
      },
      "source": [
        "#### License"
      ]
    },
    {
      "cell_type": "markdown",
      "metadata": {
        "id": "hleIN5-pcr0N"
      },
      "source": [
        "Copyright 2019-2020 Google LLC\n",
        "\n",
        "Licensed under the Apache License, Version 2.0 (the \"License\");\n",
        "you may not use this file except in compliance with the License.\n",
        "You may obtain a copy of the License at\n",
        "\n",
        "    http://www.apache.org/licenses/LICENSE-2.0\n",
        "\n",
        "Unless required by applicable law or agreed to in writing, software\n",
        "distributed under the License is distributed on an \"AS IS\" BASIS,\n",
        "WITHOUT WARRANTIES OR CONDITIONS OF ANY KIND, either express or implied.\n",
        "See the License for the specific language governing permissions and\n",
        "limitations under the License.\n",
        "\n",
        "\n",
        "---\n",
        "\n",
        "\n",
        "This is not an official Google product but sample code provided for an educational purpose.\n"
      ]
    },
    {
      "cell_type": "markdown",
      "metadata": {
        "id": "_pQCOmISAQBu"
      },
      "source": [
        "## Enabling and testing the TPU\n",
        "\n",
        "First, you'll need to enable TPUs for the notebook:\n",
        "\n",
        "- Navigate to Edit→Notebook Settings\n",
        "- select TPU from the Hardware Accelerator drop-down\n",
        "\n",
        "Next, we'll check that we can connect to the TPU:"
      ]
    },
    {
      "cell_type": "markdown",
      "metadata": {
        "id": "BIR6iAnttgJk"
      },
      "source": [
        "#Data process"
      ]
    },
    {
      "cell_type": "code",
      "metadata": {
        "id": "32Hkdaly_s6h"
      },
      "source": [
        "From 276c1138f2f97749b1156edbac47c70678611f0a Mon Sep 17 00:00:00 2001\n",
        "From: zhengjun10 <zhengjun10@huawei.com>\n",
        "Date: Wed, 19 May 2021 17:23:23 +0800\n",
        "Subject: [PATCH] fix train example code\n",
        "\n",
        "---\n",
        " build.sh                                                  | 12 ++++++------\n",
        " .../src/main/java/com/mindspore/lite/TrainSession.java    |  6 ------\n",
        " mindspore/lite/java/native/runtime/train_session.cpp      | 15 +--------------\n",
        " 3 files changed, 7 insertions(+), 26 deletions(-)\n",
        "\n",
        "diff --git a/build.sh b/build.sh\n",
        "index cf8b8c2..a084c29 100755\n",
        "--- a/build.sh\n",
        "+++ b/build.sh\n",
        "@@ -723,8 +723,8 @@ build_lite_java_arm64() {\n",
        "     mkdir -p ${JAVA_PATH}/java/app/libs/arm64-v8a/\n",
        "     mkdir -p ${JAVA_PATH}/native/libs/arm64-v8a/\n",
        "     if [[ \"X$SUPPORT_TRAIN\" = \"Xon\" ]]; then\n",
        "-      cp ${BASEPATH}/mindspore/lite/build/java/${JTARBALL}/train/lib/libmindspore-lite.so ${JAVA_PATH}/java/app/libs/arm64-v8a/\n",
        "-      cp ${BASEPATH}/mindspore/lite/build/java/${JTARBALL}/train/lib/libmindspore-lite.so ${JAVA_PATH}/native/libs/arm64-v8a/\n",
        "+      cp ${BASEPATH}/mindspore/lite/build/java/${JTARBALL}/train/lib/libmindspore-lite-train.so ${JAVA_PATH}/java/app/libs/arm64-v8a/\n",
        "+      cp ${BASEPATH}/mindspore/lite/build/java/${JTARBALL}/train/lib/libmindspore-lite-train.so ${JAVA_PATH}/native/libs/arm64-v8a/\n",
        "       cp ${BASEPATH}/mindspore/lite/build/java/${JTARBALL}/train/lib/libmslite_kernel_reg.so ${JAVA_PATH}/java/app/libs/arm64-v8a/\n",
        "       cp ${BASEPATH}/mindspore/lite/build/java/${JTARBALL}/train/lib/libmslite_kernel_reg.so ${JAVA_PATH}/native/libs/arm64-v8a/\n",
        " \n",
        "@@ -759,8 +759,8 @@ build_lite_java_arm32() {\n",
        "     mkdir -p ${JAVA_PATH}/java/app/libs/armeabi-v7a/\n",
        "     mkdir -p ${JAVA_PATH}/native/libs/armeabi-v7a/\n",
        "     if [[ \"X$SUPPORT_TRAIN\" = \"Xon\" ]]; then\n",
        "-      cp ${BASEPATH}/mindspore/lite/build/java/${JTARBALL}/train/lib/libmindspore-lite.so ${JAVA_PATH}/java/app/libs/armeabi-v7a/\n",
        "-      cp ${BASEPATH}/mindspore/lite/build/java/${JTARBALL}/train/lib/libmindspore-lite.so ${JAVA_PATH}/native/libs/armeabi-v7a/\n",
        "+      cp ${BASEPATH}/mindspore/lite/build/java/${JTARBALL}/train/lib/libmindspore-lite-train.so ${JAVA_PATH}/java/app/libs/armeabi-v7a/\n",
        "+      cp ${BASEPATH}/mindspore/lite/build/java/${JTARBALL}/train/lib/libmindspore-lite-train.so ${JAVA_PATH}/native/libs/armeabi-v7a/\n",
        "       cp ${BASEPATH}/mindspore/lite/build/java/${JTARBALL}/train/lib/libmslite_kernel_reg.so ${JAVA_PATH}/java/app/libs/armeabi-v7a/\n",
        "       cp ${BASEPATH}/mindspore/lite/build/java/${JTARBALL}/train/lib/libmslite_kernel_reg.so ${JAVA_PATH}/native/libs/armeabi-v7a/\n",
        " \n",
        "@@ -796,8 +796,8 @@ build_lite_java_x86() {\n",
        "     mkdir -p ${JAVA_PATH}/java/linux_x86/libs/\n",
        "     mkdir -p ${JAVA_PATH}/native/libs/linux_x86/\n",
        "     if [[ \"X$SUPPORT_TRAIN\" = \"Xon\" ]]; then\n",
        "-      cp ${BASEPATH}/mindspore/lite/build/java/${JTARBALL}/train/lib/libmindspore-lite.so ${JAVA_PATH}/java/linux_x86/libs/\n",
        "-      cp ${BASEPATH}/mindspore/lite/build/java/${JTARBALL}/train/lib/libmindspore-lite.so ${JAVA_PATH}/native/libs/linux_x86/\n",
        "+      cp ${BASEPATH}/mindspore/lite/build/java/${JTARBALL}/train/lib/libmindspore-lite-train.so ${JAVA_PATH}/java/linux_x86/libs/\n",
        "+      cp ${BASEPATH}/mindspore/lite/build/java/${JTARBALL}/train/lib/libmindspore-lite-train.so ${JAVA_PATH}/native/libs/linux_x86/\n",
        "       cp ${BASEPATH}/mindspore/lite/build/java/${JTARBALL}/train/lib/libmslite_kernel_reg.so ${JAVA_PATH}/java/linux_x86/libs/\n",
        "       cp ${BASEPATH}/mindspore/lite/build/java/${JTARBALL}/train/lib/libmslite_kernel_reg.so ${JAVA_PATH}/native/libs/linux_x86/\n",
        " \n",
        "diff --git a/mindspore/lite/java/java/common/src/main/java/com/mindspore/lite/TrainSession.java b/mindspore/lite/java/java/common/src/main/java/com/mindspore/lite/TrainSession.java\n",
        "index 3692510..b056bd1 100644\n",
        "--- a/mindspore/lite/java/java/common/src/main/java/com/mindspore/lite/TrainSession.java\n",
        "+++ b/mindspore/lite/java/java/common/src/main/java/com/mindspore/lite/TrainSession.java\n",
        "@@ -149,10 +149,6 @@ public class TrainSession {\n",
        "     public boolean setupVirtualBatch(int virtualBatchMultiplier) {\n",
        "         return this.setupVirtualBatch(this.sessionPtr, virtualBatchMultiplier, -1.0f, -1.0f);\n",
        "     }\n",
        "-\n",
        "-    public boolean setLossName(String lossName) {\n",
        "-        return this.setLossName(this.sessionPtr, lossName);\n",
        "-    }\n",
        "     \n",
        "     \n",
        "     private native long createSession(String modelFilename, long msConfigPtr);\n",
        "@@ -190,6 +186,4 @@ public class TrainSession {\n",
        "     private native boolean setLearningRate(long sessionPtr, float learning_rate);\n",
        " \n",
        "     private native boolean setupVirtualBatch(long sessionPtr, int virtualBatchMultiplier, float learningRate, float momentum);\n",
        "-\n",
        "-    private native boolean setLossName(long sessionPtr, String lossName);\n",
        " }\n",
        "diff --git a/mindspore/lite/java/native/runtime/train_session.cpp b/mindspore/lite/java/native/runtime/train_session.cpp\n",
        "index 14d515e..8b8a96c 100644\n",
        "--- a/mindspore/lite/java/native/runtime/train_session.cpp\n",
        "+++ b/mindspore/lite/java/native/runtime/train_session.cpp\n",
        "@@ -239,7 +239,7 @@ extern \"C\" JNIEXPORT jboolean JNICALL Java_com_mindspore_lite_TrainSession_saveT\n",
        "     return (jboolean) false;\n",
        "   }\n",
        "   auto *train_session_ptr = static_cast<mindspore::session::TrainSession *>(session_pointer);\n",
        "-  auto ret = train_session_ptr->SaveToFile(JstringToChar(env, model_file_name));\n",
        "+  auto ret = train_session_ptr->Export(JstringToChar(env, model_file_name));\n",
        "   return (jboolean)(ret == 0);\n",
        " }\n",
        " \n",
        "@@ -318,16 +318,3 @@ extern \"C\" JNIEXPORT jboolean JNICALL Java_com_mindspore_lite_TrainSession_setup\n",
        "   auto ret = train_session_ptr->SetupVirtualBatch(virtualBatchMultiplier, learningRate, momentum);\n",
        "   return (jboolean)(ret == mindspore::lite::RET_OK);\n",
        " }\n",
        "-\n",
        "-extern \"C\" JNIEXPORT jboolean JNICALL Java_com_mindspore_lite_TrainSession_setLossName(JNIEnv *env, jobject thiz,\n",
        "-                                                                                       jlong session_ptr,\n",
        "-                                                                                       jstring lossName) {\n",
        "-  auto *session_pointer = reinterpret_cast<void *>(session_ptr);\n",
        "-  if (session_pointer == nullptr) {\n",
        "-    MS_LOGE(\"Session pointer from java is nullptr\");\n",
        "-    return (jboolean) false;\n",
        "-  }\n",
        "-  auto *train_session_ptr = static_cast<mindspore::session::TrainSession *>(session_pointer);\n",
        "-  auto ret = train_session_ptr->SetLossName(JstringToChar(env, lossName));\n",
        "-  return (jboolean)(ret == mindspore::lite::RET_OK);\n",
        "-}\n",
        "-- \n",
        "2.7.4\n",
        "\n"
      ],
      "execution_count": null,
      "outputs": []
    }
  ]
}