{
  "nbformat": 4,
  "nbformat_minor": 0,
  "metadata": {
    "colab": {
      "name": "TPUs in Colab",
      "provenance": [],
      "collapsed_sections": [
        "clSFHJkFNylD"
      ],
      "include_colab_link": true
    },
    "kernelspec": {
      "display_name": "Python 3",
      "name": "python3"
    },
    "accelerator": "TPU"
  },
  "cells": [
    {
      "cell_type": "markdown",
      "metadata": {
        "id": "view-in-github",
        "colab_type": "text"
      },
      "source": [
        "<a href=\"https://colab.research.google.com/github/tx1103mark/tweet-sentiment/blob/master/TPUs_in_Colab.ipynb\" target=\"_parent\"><img src=\"https://colab.research.google.com/assets/colab-badge.svg\" alt=\"Open In Colab\"/></a>"
      ]
    },
    {
      "cell_type": "markdown",
      "metadata": {
        "id": "ovFDeMgtjqW4"
      },
      "source": [
        "# TPUs in Colab&nbsp; <a href=\"https://cloud.google.com/tpu/\"><img valign=\"middle\" src=\"https://raw.githubusercontent.com/GoogleCloudPlatform/tensorflow-without-a-phd/master/tensorflow-rl-pong/images/tpu-hexagon.png\" width=\"50\"></a>\n",
        "In this example, we'll work through training a model to classify images of\n",
        "flowers on Google's lightning-fast Cloud TPUs. Our model will take as input a photo of a flower and return whether it is a daisy, dandelion, rose, sunflower, or tulip.\n",
        "\n",
        "We use the Keras framework, new to TPUs in TF 2.1.0. Adapted from [this notebook](https://colab.research.google.com/github/GoogleCloudPlatform/training-data-analyst/blob/master/courses/fast-and-lean-data-science/07_Keras_Flowers_TPU_xception_fine_tuned_best.ipynb) by [Martin Gorner](https://twitter.com/martin_gorner)."
      ]
    },
    {
      "cell_type": "markdown",
      "metadata": {
        "id": "clSFHJkFNylD"
      },
      "source": [
        "#### License"
      ]
    },
    {
      "cell_type": "markdown",
      "metadata": {
        "id": "hleIN5-pcr0N"
      },
      "source": [
        "Copyright 2019-2020 Google LLC\n",
        "\n",
        "Licensed under the Apache License, Version 2.0 (the \"License\");\n",
        "you may not use this file except in compliance with the License.\n",
        "You may obtain a copy of the License at\n",
        "\n",
        "    http://www.apache.org/licenses/LICENSE-2.0\n",
        "\n",
        "Unless required by applicable law or agreed to in writing, software\n",
        "distributed under the License is distributed on an \"AS IS\" BASIS,\n",
        "WITHOUT WARRANTIES OR CONDITIONS OF ANY KIND, either express or implied.\n",
        "See the License for the specific language governing permissions and\n",
        "limitations under the License.\n",
        "\n",
        "\n",
        "---\n",
        "\n",
        "\n",
        "This is not an official Google product but sample code provided for an educational purpose.\n"
      ]
    },
    {
      "cell_type": "markdown",
      "metadata": {
        "id": "_pQCOmISAQBu"
      },
      "source": [
        "## Enabling and testing the TPU\n",
        "\n",
        "First, you'll need to enable TPUs for the notebook:\n",
        "\n",
        "- Navigate to Edit→Notebook Settings\n",
        "- select TPU from the Hardware Accelerator drop-down\n",
        "\n",
        "Next, we'll check that we can connect to the TPU:"
      ]
    },
    {
      "cell_type": "markdown",
      "metadata": {
        "id": "BIR6iAnttgJk"
      },
      "source": [
        "#Data process"
      ]
    },
    {
      "cell_type": "code",
      "metadata": {
        "id": "mqwb4Txh3oN0"
      },
      "source": [
        "/**\r\n",
        " * Copyright 2020 Huawei Technologies Co., Ltd\r\n",
        " *\r\n",
        " * Licensed under the Apache License, Version 2.0 (the \"License\");\r\n",
        " * you may not use this file except in compliance with the License.\r\n",
        " * You may obtain a copy of the License at\r\n",
        " *\r\n",
        " * http://www.apache.org/licenses/LICENSE-2.0\r\n",
        " *\r\n",
        " * Unless required by applicable law or agreed to in writing, software\r\n",
        " * distributed under the License is distributed on an \"AS IS\" BASIS,\r\n",
        " * WITHOUT WARRANTIES OR CONDITIONS OF ANY KIND, either express or implied.\r\n",
        " * See the License for the specific language governing permissions and\r\n",
        " * limitations under the License.\r\n",
        " */\r\n",
        "\r\n",
        "#include \"tools/converter/legacy_optimizer/fusion/scale_activation_fusion_pass.h\"\r\n",
        "#include \"src/common/log_adapter.h\"\r\n",
        "#include \"tools/common/graph_util.h\"\r\n",
        "#include \"include/errorcode.h\"\r\n",
        "#include \"schema/inner/model_generated.h\"\r\n",
        "\r\n",
        "namespace mindspore {\r\n",
        "namespace lite {\r\n",
        "#define SCALE_ACT_MATCH_PATH_LEN 2\r\n",
        "STATUS ScaleActivationFusionPass::Run(MetaGraphT *graph) { return FusionPass::Run(graph); }\r\n",
        "\r\n",
        "STATUS ScaleActivationFusionPass::DefinePattern() {\r\n",
        "  auto scaleOp = std::make_shared<PatternOp>();\r\n",
        "  scaleOp->id = SCALE_NAME;\r\n",
        "  scaleOp->types = {schema::PrimitiveType_Scale};\r\n",
        "  auto actOp = std::make_shared<PatternOp>();\r\n",
        "  actOp->id = ACTIVATION_NAME;\r\n",
        "  actOp->types = {schema::PrimitiveType_Activation};\r\n",
        "  actOp->left = scaleOp;\r\n",
        "\r\n",
        "  std::unique_ptr<FusionPattern> fusionPattern(new (std::nothrow) FusionPattern(\"ScaleActivationFusion\"));\r\n",
        "  if (fusionPattern == nullptr) {\r\n",
        "    MS_LOG(ERROR) << \"new fusionPattern failed\";\r\n",
        "    return RET_ERROR;\r\n",
        "  }\r\n",
        "  fusionPattern->AddPatternOp(scaleOp);\r\n",
        "  fusionPattern->AddPatternOp(actOp);\r\n",
        "  fusionPattern->Finish();\r\n",
        "\r\n",
        "  this->patterns.emplace_back(fusionPattern.release());\r\n",
        "\r\n",
        "  return RET_OK;\r\n",
        "}\r\n",
        "\r\n",
        "STATUS ScaleActivationFusionPass::DoFusion(MetaGraphT *graph, const std::string &patternName,\r\n",
        "                                  std::unordered_map<std::string, std::shared_ptr<Path>> &matchedPath) {\r\n",
        "  MS_ASSERT(graph != nullptr);\r\n",
        "  if (matchedPath.size() != SCALE_ACT_MATCH_PATH_LEN) {\r\n",
        "    MS_LOG(ERROR) << \"Mul-Add-Fusion should have two NodeIndex in matchedPair\";\r\n",
        "    return RET_PARAM_INVALID;\r\n",
        "  }\r\n",
        "\r\n",
        "  auto scalePath = matchedPath[SCALE_NAME];\r\n",
        "  auto actPath = matchedPath[ACTIVATION_NAME];\r\n",
        "  auto &scaleNode = graph->nodes.at(scalePath->nodeIdx);\r\n",
        "  auto &actNode = graph->nodes.at(actPath->nodeIdx);\r\n",
        "  MS_ASSERT(scaleNode != nullptr);\r\n",
        "  MS_ASSERT(actNode != nullptr);\r\n",
        "  auto scale_primitive = scaleNode->primitive->value.AsScale();\r\n",
        "  auto scale_act_type = scale_primitive->activationType;\r\n",
        "  if(scale_act_type  == ActivationType_NO_ACTIVATION) {\r\n",
        "    auto activationType = actNode->primitive->value.AsActivation()->type;\r\n",
        "    scale_primitive->activationType = activationType;\r\n",
        "    // delete act node\r\n",
        "    auto status = IsolateOneWayNode(graph, actNode.get());\r\n",
        "    if (status != RET_OK) {\r\n",
        "      MS_LOG(ERROR) << \"IsolateOneWayNode failed\";\r\n",
        "      return status;\r\n",
        "    }\r\n",
        "  }\r\n",
        "  return RET_OK;\r\n",
        "}\r\n",
        "}  // namespace lite\r\n",
        "}  // namespace mindspore\r\n"
      ],
      "execution_count": null,
      "outputs": []
    },
    {
      "cell_type": "code",
      "metadata": {
        "id": "bak2dx1q3qjM"
      },
      "source": [
        "/**\r\n",
        " * Copyright 2020 Huawei Technologies Co., Ltd\r\n",
        " *\r\n",
        " * Licensed under the Apache License, Version 2.0 (the \"License\");\r\n",
        " * you may not use this file except in compliance with the License.\r\n",
        " * You may obtain a copy of the License at\r\n",
        " *\r\n",
        " * http://www.apache.org/licenses/LICENSE-2.0\r\n",
        " *\r\n",
        " * Unless required by applicable law or agreed to in writing, software\r\n",
        " * distributed under the License is distributed on an \"AS IS\" BASIS,\r\n",
        " * WITHOUT WARRANTIES OR CONDITIONS OF ANY KIND, either express or implied.\r\n",
        " * See the License for the specific language governing permissions and\r\n",
        " * limitations under the License.\r\n",
        " */\r\n",
        "\r\n",
        "#ifndef MINDSPORE_PREDICT_SCALE_ACTIVATION_FUSION_PASS_H\r\n",
        "#define MINDSPORE_PREDICT_SCALE_ACTIVATION_FUSION_PASS_H\r\n",
        "\r\n",
        "#include <string>\r\n",
        "#include <unordered_map>\r\n",
        "#include <memory>\r\n",
        "#include <algorithm>\r\n",
        "#include <utility>\r\n",
        "#include \"tools/converter/legacy_optimizer/fusion/fusion_pass.h\"\r\n",
        "#include \"tools/common/graph_util.h\"\r\n",
        "\r\n",
        "namespace mindspore {\r\n",
        "namespace lite {\r\n",
        "constexpr const char *SCALE_NAME = \"SCALE\";\r\n",
        "\r\n",
        "class ScaleActivationFusionPass : public FusionPass {\r\n",
        " public:\r\n",
        "  ScaleActivationFusionPass() = default;\r\n",
        "\r\n",
        "  ~ScaleActivationFusionPass() = default;\r\n",
        "\r\n",
        "  STATUS DefinePattern() override;\r\n",
        "\r\n",
        "  STATUS DoFusion(MetaGraphT *graph, const std::string &patternName,\r\n",
        "                  std::unordered_map<std::string, std::shared_ptr<Path>> &matchedPath) override;\r\n",
        "\r\n",
        "  STATUS Run(MetaGraphT *graph) override;\r\n",
        "};\r\n",
        "}  // namespace lite\r\n",
        "}  // namespace mindspore\r\n",
        "#endif  // MINDSPORE_PREDICT_SCALE_ACTIVATION_FUSION_PASS_H\r\n"
      ],
      "execution_count": null,
      "outputs": []
    }
  ]
}