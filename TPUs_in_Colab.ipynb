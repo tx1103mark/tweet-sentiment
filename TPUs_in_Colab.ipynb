{
  "nbformat": 4,
  "nbformat_minor": 0,
  "metadata": {
    "colab": {
      "name": "TPUs in Colab",
      "provenance": [],
      "collapsed_sections": [
        "clSFHJkFNylD"
      ],
      "include_colab_link": true
    },
    "kernelspec": {
      "display_name": "Python 3",
      "name": "python3"
    },
    "accelerator": "TPU"
  },
  "cells": [
    {
      "cell_type": "markdown",
      "metadata": {
        "id": "view-in-github",
        "colab_type": "text"
      },
      "source": [
        "<a href=\"https://colab.research.google.com/github/tx1103mark/tweet-sentiment/blob/master/TPUs_in_Colab.ipynb\" target=\"_parent\"><img src=\"https://colab.research.google.com/assets/colab-badge.svg\" alt=\"Open In Colab\"/></a>"
      ]
    },
    {
      "cell_type": "markdown",
      "metadata": {
        "id": "ovFDeMgtjqW4"
      },
      "source": [
        "# TPUs in Colab&nbsp; <a href=\"https://cloud.google.com/tpu/\"><img valign=\"middle\" src=\"https://raw.githubusercontent.com/GoogleCloudPlatform/tensorflow-without-a-phd/master/tensorflow-rl-pong/images/tpu-hexagon.png\" width=\"50\"></a>\n",
        "In this example, we'll work through training a model to classify images of\n",
        "flowers on Google's lightning-fast Cloud TPUs. Our model will take as input a photo of a flower and return whether it is a daisy, dandelion, rose, sunflower, or tulip.\n",
        "\n",
        "We use the Keras framework, new to TPUs in TF 2.1.0. Adapted from [this notebook](https://colab.research.google.com/github/GoogleCloudPlatform/training-data-analyst/blob/master/courses/fast-and-lean-data-science/07_Keras_Flowers_TPU_xception_fine_tuned_best.ipynb) by [Martin Gorner](https://twitter.com/martin_gorner)."
      ]
    },
    {
      "cell_type": "markdown",
      "metadata": {
        "id": "clSFHJkFNylD"
      },
      "source": [
        "#### License"
      ]
    },
    {
      "cell_type": "markdown",
      "metadata": {
        "id": "hleIN5-pcr0N"
      },
      "source": [
        "Copyright 2019-2020 Google LLC\n",
        "\n",
        "Licensed under the Apache License, Version 2.0 (the \"License\");\n",
        "you may not use this file except in compliance with the License.\n",
        "You may obtain a copy of the License at\n",
        "\n",
        "    http://www.apache.org/licenses/LICENSE-2.0\n",
        "\n",
        "Unless required by applicable law or agreed to in writing, software\n",
        "distributed under the License is distributed on an \"AS IS\" BASIS,\n",
        "WITHOUT WARRANTIES OR CONDITIONS OF ANY KIND, either express or implied.\n",
        "See the License for the specific language governing permissions and\n",
        "limitations under the License.\n",
        "\n",
        "\n",
        "---\n",
        "\n",
        "\n",
        "This is not an official Google product but sample code provided for an educational purpose.\n"
      ]
    },
    {
      "cell_type": "markdown",
      "metadata": {
        "id": "_pQCOmISAQBu"
      },
      "source": [
        "## Enabling and testing the TPU\n",
        "\n",
        "First, you'll need to enable TPUs for the notebook:\n",
        "\n",
        "- Navigate to Edit→Notebook Settings\n",
        "- select TPU from the Hardware Accelerator drop-down\n",
        "\n",
        "Next, we'll check that we can connect to the TPU:"
      ]
    },
    {
      "cell_type": "markdown",
      "metadata": {
        "id": "BIR6iAnttgJk"
      },
      "source": [
        "#Data process"
      ]
    },
    {
      "cell_type": "code",
      "metadata": {
        "id": "S93a3Yz_tHf4"
      },
      "source": [
        "diff --git a/mindspore/lite/nnacl/fp32_grad/layernorm_grad.c b/mindspore/lite/nnacl/fp32_grad/layernorm_grad.c\n",
        "index 38357d3..7a834e6 100644\n",
        "--- a/mindspore/lite/nnacl/fp32_grad/layernorm_grad.c\n",
        "+++ b/mindspore/lite/nnacl/fp32_grad/layernorm_grad.c\n",
        "@@ -19,14 +19,15 @@\n",
        " \n",
        " void LayerNormGrad(const float *x, const float *dy, const float *var, const float *mean, const float *gamma,\n",
        "                    int param_num, int param_size, int block_num, int block_size, float *dx, float *dg, float *db) {\n",
        "-  // var is actually 1/sqrf(var)-> var^0.5\n",
        "+  // var is actually layer_norm forward output var\n",
        "+  float eps = 1e-12;\n",
        "   const float *var_sqrt_rev = var;\n",
        "   for (size_t i = 0; i < param_num; ++i) {\n",
        "     float dgamma = 0.0f;\n",
        "     float dbeta = 0.0f;\n",
        "     for (size_t j = i; j < param_size * param_num; j += param_num) {\n",
        "       int norm_shift = (int)(j / block_size);\n",
        "-      dgamma += dy[j] * var_sqrt_rev[norm_shift] * (x[j] - mean[norm_shift]);\n",
        "+      dgamma += dy[j] * pow(var[norm_shift]+eps, -0.5) * (x[j] - mean[norm_shift]);\n",
        "       dbeta += dy[j];\n",
        "     }\n",
        "     dg[i] = dgamma;\n",
        "@@ -41,13 +42,15 @@ void LayerNormGrad(const float *x, const float *dy, const float *var, const floa\n",
        "       int norm_shift = (int)(j / block_size);\n",
        "       float dxm = x[j] - mean[norm_shift];\n",
        "       float dyg = dy[j] * gamma[param_shift];\n",
        "-      sum1 += -0.5f * dyg * dxm * var_sqrt_rev[norm_shift] * var_sqrt_rev[norm_shift] * var_sqrt_rev[norm_shift];\n",
        "+\n",
        "+      sum1 += -0.5f * dyg * dxm * pow(var_sqrt_rev[norm_shift] + eps, -1.5);\n",
        "+      sum2 += dyg;\n",
        "       sum3 += -2.0f * dxm;\n",
        "     }\n",
        "     for (size_t j = i * block_size; j < (i + 1) * block_size; ++j) {\n",
        "       int param_shift = j % param_num;\n",
        "       int norm_shift = (int)(j / block_size);\n",
        "-      float var_sqrt = var_sqrt_rev[norm_shift];\n",
        "+      float var_sqrt = pow(var_sqrt_rev[norm_shift]+eps, -0.5);\n",
        "       float dx1 = dy[j] * gamma[param_shift] * var_sqrt;\n",
        "       float dx2 = sum1 * 2.0f / block_size * (x[j] - mean[norm_shift]);\n",
        "       float dx3 = (-1.0f * var_sqrt * sum2 + (1.0f / block_size) * sum1 * sum3) * (1.0f / block_size);\n"
      ],
      "execution_count": null,
      "outputs": []
    }
  ]
}