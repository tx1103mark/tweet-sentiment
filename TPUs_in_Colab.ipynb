{
  "nbformat": 4,
  "nbformat_minor": 0,
  "metadata": {
    "colab": {
      "name": "TPUs in Colab",
      "provenance": [],
      "collapsed_sections": [
        "clSFHJkFNylD"
      ],
      "include_colab_link": true
    },
    "kernelspec": {
      "display_name": "Python 3",
      "name": "python3"
    },
    "accelerator": "TPU"
  },
  "cells": [
    {
      "cell_type": "markdown",
      "metadata": {
        "id": "view-in-github",
        "colab_type": "text"
      },
      "source": [
        "<a href=\"https://colab.research.google.com/github/tx1103mark/tweet-sentiment/blob/master/TPUs_in_Colab.ipynb\" target=\"_parent\"><img src=\"https://colab.research.google.com/assets/colab-badge.svg\" alt=\"Open In Colab\"/></a>"
      ]
    },
    {
      "cell_type": "markdown",
      "metadata": {
        "colab_type": "text",
        "id": "ovFDeMgtjqW4"
      },
      "source": [
        "# TPUs in Colab&nbsp; <a href=\"https://cloud.google.com/tpu/\"><img valign=\"middle\" src=\"https://raw.githubusercontent.com/GoogleCloudPlatform/tensorflow-without-a-phd/master/tensorflow-rl-pong/images/tpu-hexagon.png\" width=\"50\"></a>\n",
        "In this example, we'll work through training a model to classify images of\n",
        "flowers on Google's lightning-fast Cloud TPUs. Our model will take as input a photo of a flower and return whether it is a daisy, dandelion, rose, sunflower, or tulip.\n",
        "\n",
        "We use the Keras framework, new to TPUs in TF 2.1.0. Adapted from [this notebook](https://colab.research.google.com/github/GoogleCloudPlatform/training-data-analyst/blob/master/courses/fast-and-lean-data-science/07_Keras_Flowers_TPU_xception_fine_tuned_best.ipynb) by [Martin Gorner](https://twitter.com/martin_gorner)."
      ]
    },
    {
      "cell_type": "markdown",
      "metadata": {
        "colab_type": "text",
        "id": "clSFHJkFNylD"
      },
      "source": [
        "#### License"
      ]
    },
    {
      "cell_type": "markdown",
      "metadata": {
        "colab_type": "text",
        "id": "hleIN5-pcr0N"
      },
      "source": [
        "Copyright 2019-2020 Google LLC\n",
        "\n",
        "Licensed under the Apache License, Version 2.0 (the \"License\");\n",
        "you may not use this file except in compliance with the License.\n",
        "You may obtain a copy of the License at\n",
        "\n",
        "    http://www.apache.org/licenses/LICENSE-2.0\n",
        "\n",
        "Unless required by applicable law or agreed to in writing, software\n",
        "distributed under the License is distributed on an \"AS IS\" BASIS,\n",
        "WITHOUT WARRANTIES OR CONDITIONS OF ANY KIND, either express or implied.\n",
        "See the License for the specific language governing permissions and\n",
        "limitations under the License.\n",
        "\n",
        "\n",
        "---\n",
        "\n",
        "\n",
        "This is not an official Google product but sample code provided for an educational purpose.\n"
      ]
    },
    {
      "cell_type": "markdown",
      "metadata": {
        "colab_type": "text",
        "id": "_pQCOmISAQBu"
      },
      "source": [
        "## Enabling and testing the TPU\n",
        "\n",
        "First, you'll need to enable TPUs for the notebook:\n",
        "\n",
        "- Navigate to Edit→Notebook Settings\n",
        "- select TPU from the Hardware Accelerator drop-down\n",
        "\n",
        "Next, we'll check that we can connect to the TPU:"
      ]
    },
    {
      "cell_type": "markdown",
      "metadata": {
        "id": "BIR6iAnttgJk",
        "colab_type": "text"
      },
      "source": [
        "#Data process"
      ]
    },
    {
      "cell_type": "code",
      "metadata": {
        "id": "X0JLYbuqCfyg",
        "colab_type": "code",
        "colab": {}
      },
      "source": [
        " if (type == PrimitiveType_Crop) {\n",
        "    auto origin_axis = node->primitive->value.AsCrop()->axis;\n",
        "    auto offsets = node->primitive->value.AsCrop()->offsets;\n",
        "    auto axis_map = GetNc2NhAxisMap();\n",
        "    node->primitive->value.AsCrop()->axis = axis_map[origin_axis];\n",
        "    //nchw->nhwc,offsets need pad 0;\n",
        "    if (axis_map[origin_axis] == 0) {\n",
        "      offsets = {offsets[0], offsets[2], offsets[3], offsets[1]};\n",
        "    } else if (axis_map[origin_axis] == 1 || axis_map[origin_axis] == 2) {\n",
        "      // orgin_axis = 2 or orgin_axis = 3\n",
        "      offsets.push_back(0);\n",
        "    } else if (axis_map[origin_axis] == -1) {\n",
        "      // origin_axis = 1\n",
        "      offsets = {offsets[1], offsets[2], offsets[0]};\n",
        "    } else {\n",
        "      // axis error\n",
        "      MS_LOG(ERROR) << \"Crop error\";\n",
        "      return RET_ERROR;\n",
        "    }\n",
        "    node->primitive->value.AsCrop()->offsets = offsets;\n",
        "  }\n",
        "  if (type == PrimitiveType_Slice) {\n",
        "    auto attr = node->primitive->value.AsSlice();\n",
        "    auto origin_begin = attr->begin;\n",
        "    attr->begin = {origin_begin[NCHW_N], origin_begin[NCHW_H], origin_begin[NCHW_W], origin_begin[NCHW_C]};\n",
        "    auto origin_end = attr->axes;\n",
        "    attr->axes = {origin_end[NCHW_N], origin_end[NCHW_H], origin_end[NCHW_W], origin_end[NCHW_C]};\n",
        "    auto origin_stride = attr->size;\n",
        "    attr->size = {origin_stride[NCHW_N], origin_stride[NCHW_H], origin_stride[NCHW_W], origin_stride[NCHW_C]};\n",
        "  }"
      ],
      "execution_count": null,
      "outputs": []
    },
    {
      "cell_type": "code",
      "metadata": {
        "id": "NDsim_JUCjO1",
        "colab_type": "code",
        "colab": {}
      },
      "source": [
        "static const std::unordered_map<int, int> nc2NhAxisMap = {\n",
        "    {0, 0}, {1, -1}, {2, 1}, {3, 2}\n",
        "};\n",
        "\n",
        "std::unordered_map<int, int> GetNc2NhAxisMap() { return nc2NhAxisMap; };\n"
      ],
      "execution_count": null,
      "outputs": []
    }
  ]
}