{
  "nbformat": 4,
  "nbformat_minor": 0,
  "metadata": {
    "colab": {
      "name": "TPUs in Colab",
      "provenance": [],
      "collapsed_sections": [
        "clSFHJkFNylD"
      ],
      "include_colab_link": true
    },
    "kernelspec": {
      "display_name": "Python 3",
      "name": "python3"
    },
    "accelerator": "TPU"
  },
  "cells": [
    {
      "cell_type": "markdown",
      "metadata": {
        "id": "view-in-github",
        "colab_type": "text"
      },
      "source": [
        "<a href=\"https://colab.research.google.com/github/tx1103mark/tweet-sentiment/blob/master/TPUs_in_Colab.ipynb\" target=\"_parent\"><img src=\"https://colab.research.google.com/assets/colab-badge.svg\" alt=\"Open In Colab\"/></a>"
      ]
    },
    {
      "cell_type": "markdown",
      "metadata": {
        "id": "ovFDeMgtjqW4"
      },
      "source": [
        "# TPUs in Colab&nbsp; <a href=\"https://cloud.google.com/tpu/\"><img valign=\"middle\" src=\"https://raw.githubusercontent.com/GoogleCloudPlatform/tensorflow-without-a-phd/master/tensorflow-rl-pong/images/tpu-hexagon.png\" width=\"50\"></a>\n",
        "In this example, we'll work through training a model to classify images of\n",
        "flowers on Google's lightning-fast Cloud TPUs. Our model will take as input a photo of a flower and return whether it is a daisy, dandelion, rose, sunflower, or tulip.\n",
        "\n",
        "We use the Keras framework, new to TPUs in TF 2.1.0. Adapted from [this notebook](https://colab.research.google.com/github/GoogleCloudPlatform/training-data-analyst/blob/master/courses/fast-and-lean-data-science/07_Keras_Flowers_TPU_xception_fine_tuned_best.ipynb) by [Martin Gorner](https://twitter.com/martin_gorner)."
      ]
    },
    {
      "cell_type": "markdown",
      "metadata": {
        "id": "clSFHJkFNylD"
      },
      "source": [
        "#### License"
      ]
    },
    {
      "cell_type": "markdown",
      "metadata": {
        "id": "hleIN5-pcr0N"
      },
      "source": [
        "Copyright 2019-2020 Google LLC\n",
        "\n",
        "Licensed under the Apache License, Version 2.0 (the \"License\");\n",
        "you may not use this file except in compliance with the License.\n",
        "You may obtain a copy of the License at\n",
        "\n",
        "    http://www.apache.org/licenses/LICENSE-2.0\n",
        "\n",
        "Unless required by applicable law or agreed to in writing, software\n",
        "distributed under the License is distributed on an \"AS IS\" BASIS,\n",
        "WITHOUT WARRANTIES OR CONDITIONS OF ANY KIND, either express or implied.\n",
        "See the License for the specific language governing permissions and\n",
        "limitations under the License.\n",
        "\n",
        "\n",
        "---\n",
        "\n",
        "\n",
        "This is not an official Google product but sample code provided for an educational purpose.\n"
      ]
    },
    {
      "cell_type": "markdown",
      "metadata": {
        "id": "_pQCOmISAQBu"
      },
      "source": [
        "## Enabling and testing the TPU\n",
        "\n",
        "First, you'll need to enable TPUs for the notebook:\n",
        "\n",
        "- Navigate to Edit→Notebook Settings\n",
        "- select TPU from the Hardware Accelerator drop-down\n",
        "\n",
        "Next, we'll check that we can connect to the TPU:"
      ]
    },
    {
      "cell_type": "markdown",
      "metadata": {
        "id": "BIR6iAnttgJk"
      },
      "source": [
        "#Data process"
      ]
    },
    {
      "cell_type": "code",
      "metadata": {
        "id": "V8Mqp2MsvOep"
      },
      "source": [
        "From 922fa9556f88251d3ecb14e5bb217c5c9f57bd80 Mon Sep 17 00:00:00 2001\n",
        "From: zhengjun10 <zhengjun10@huawei.com>\n",
        "Date: Mon, 5 Jul 2021 15:57:50 +0800\n",
        "Subject: [PATCH] fix java aar inference bug\n",
        "\n",
        "---\n",
        " mindspore/lite/java/native/CMakeLists.txt          |  2 ++\n",
        " .../lite/java/native/runtime/lite_session.cpp      | 21 ------------\n",
        " .../lite/java/native/runtime/train_session.cpp     | 39 ++++++++++++++++++++++\n",
        " 3 files changed, 41 insertions(+), 21 deletions(-)\n",
        " create mode 100644 mindspore/lite/java/native/runtime/train_session.cpp\n",
        "\n",
        "diff --git a/mindspore/lite/java/native/CMakeLists.txt b/mindspore/lite/java/native/CMakeLists.txt\n",
        "index 2353b1d..5892831 100644\n",
        "--- a/mindspore/lite/java/native/CMakeLists.txt\n",
        "+++ b/mindspore/lite/java/native/CMakeLists.txt\n",
        "@@ -103,6 +103,8 @@ endif()\n",
        " \n",
        " if(SUPPORT_TRAIN)\n",
        "   set(LITE_TRAIN_SO_NAME mindspore-lite-train minddata-lite)\n",
        "+  set(JNI_TRAIN_SRC ${CMAKE_CURRENT_SOURCE_DIR}/runtime/train_session.cpp)\n",
        "+  add_library(mindspore-lite-jni SHARED ${JNI_TRAIN_SRC})\n",
        "   if(PLATFORM_ARM64 OR PLATFORM_ARM32)\n",
        "     find_library(log-lib log)\n",
        "     target_link_libraries(mindspore-lite-jni ${LITE_TRAIN_SO_NAME} ${log-lib})\n",
        "diff --git a/mindspore/lite/java/native/runtime/lite_session.cpp b/mindspore/lite/java/native/runtime/lite_session.cpp\n",
        "index 0d2af8a..fb31598 100644\n",
        "--- a/mindspore/lite/java/native/runtime/lite_session.cpp\n",
        "+++ b/mindspore/lite/java/native/runtime/lite_session.cpp\n",
        "@@ -411,24 +411,3 @@ extern \"C\" JNIEXPORT jobject JNICALL Java_com_mindspore_lite_LiteSession_getFeat\n",
        "   }\n",
        "   return ret;\n",
        " }\n",
        "-\n",
        "-extern \"C\" JNIEXPORT jlong JNICALL Java_com_mindspore_lite_LiteSession_createTrainSession(JNIEnv *env, jobject thiz,\n",
        "-                                                                                          jstring file_name,\n",
        "-                                                                                          jlong ms_context_ptr,\n",
        "-                                                                                          jboolean train_mode,\n",
        "-                                                                                          jlong train_config_ptr) {\n",
        "-  auto *pointer = reinterpret_cast<void *>(ms_context_ptr);\n",
        "-  if (pointer == nullptr) {\n",
        "-    MS_LOGE(\"Context pointer from java is nullptr\");\n",
        "-    return jlong(nullptr);\n",
        "-  }\n",
        "-  auto *lite_context_ptr = static_cast<mindspore::lite::Context *>(pointer);\n",
        "-\n",
        "-  auto session = mindspore::session::LiteSession::CreateTrainSession(env->GetStringUTFChars(file_name, JNI_FALSE),\n",
        "-                                                                     lite_context_ptr, train_mode, nullptr);\n",
        "-  if (session == nullptr) {\n",
        "-    MS_LOGE(\"CreateTrainSession failed\");\n",
        "-    return jlong(nullptr);\n",
        "-  }\n",
        "-  return jlong(session);\n",
        "-}\n",
        "diff --git a/mindspore/lite/java/native/runtime/train_session.cpp b/mindspore/lite/java/native/runtime/train_session.cpp\n",
        "new file mode 100644\n",
        "index 0000000..a799789\n",
        "--- /dev/null\n",
        "+++ b/mindspore/lite/java/native/runtime/train_session.cpp\n",
        "@@ -0,0 +1,39 @@\n",
        "+/**\n",
        "+ * Copyright 2020 Huawei Technologies Co., Ltd\n",
        "+ *\n",
        "+ * Licensed under the Apache License, Version 2.0 (the \"License\");\n",
        "+ * you may not use this file except in compliance with the License.\n",
        "+ * You may obtain a copy of the License at\n",
        "+ *\n",
        "+ * http://www.apache.org/licenses/LICENSE-2.0\n",
        "+ *\n",
        "+ * Unless required by applicable law or agreed to in writing, software\n",
        "+ * distributed under the License is distributed on an \"AS IS\" BASIS,\n",
        "+ * WITHOUT WARRANTIES OR CONDITIONS OF ANY KIND, either express or implied.\n",
        "+ * See the License for the specific language governing permissions and\n",
        "+ * limitations under the License.\n",
        "+ */\n",
        "+\n",
        "+#include <jni.h>\n",
        "+#include \"common/ms_log.h\"\n",
        "+#include \"include/lite_session.h\"\n",
        "+#include \"include/train/train_cfg.h\"\n",
        "+#include \"include/errorcode.h\"\n",
        "+\n",
        "+extern \"C\" JNIEXPORT jlong JNICALL Java_com_mindspore_lite_LiteSession_createTrainSession(\n",
        "+  JNIEnv *env, jobject thiz, jstring file_name, jlong ms_context_ptr, jboolean train_mode, jlong train_config_ptr) {\n",
        "+  auto *pointer = reinterpret_cast<void *>(ms_context_ptr);\n",
        "+  if (pointer == nullptr) {\n",
        "+    MS_LOGE(\"Context pointer from java is nullptr\");\n",
        "+    return jlong(nullptr);\n",
        "+  }\n",
        "+  auto *lite_context_ptr = static_cast<mindspore::lite::Context *>(pointer);\n",
        "+\n",
        "+  auto session = mindspore::session::LiteSession::CreateTrainSession(env->GetStringUTFChars(file_name, JNI_FALSE),\n",
        "+                                                                     lite_context_ptr, train_mode, nullptr);\n",
        "+  if (session == nullptr) {\n",
        "+    MS_LOGE(\"CreateSession failed\");\n",
        "+    return jlong(nullptr);\n",
        "+  }\n",
        "+  return jlong(session);\n",
        "+}\n",
        "\\ No newline at end of file\n",
        "-- \n",
        "2.7.4\n",
        "\n"
      ],
      "execution_count": null,
      "outputs": []
    }
  ]
}