{
  "nbformat": 4,
  "nbformat_minor": 0,
  "metadata": {
    "colab": {
      "name": "TPUs in Colab",
      "provenance": [],
      "collapsed_sections": [
        "clSFHJkFNylD"
      ],
      "include_colab_link": true
    },
    "kernelspec": {
      "display_name": "Python 3",
      "name": "python3"
    },
    "accelerator": "TPU"
  },
  "cells": [
    {
      "cell_type": "markdown",
      "metadata": {
        "id": "view-in-github",
        "colab_type": "text"
      },
      "source": [
        "<a href=\"https://colab.research.google.com/github/tx1103mark/tweet-sentiment/blob/master/TPUs_in_Colab.ipynb\" target=\"_parent\"><img src=\"https://colab.research.google.com/assets/colab-badge.svg\" alt=\"Open In Colab\"/></a>"
      ]
    },
    {
      "cell_type": "markdown",
      "metadata": {
        "colab_type": "text",
        "id": "ovFDeMgtjqW4"
      },
      "source": [
        "# TPUs in Colab&nbsp; <a href=\"https://cloud.google.com/tpu/\"><img valign=\"middle\" src=\"https://raw.githubusercontent.com/GoogleCloudPlatform/tensorflow-without-a-phd/master/tensorflow-rl-pong/images/tpu-hexagon.png\" width=\"50\"></a>\n",
        "In this example, we'll work through training a model to classify images of\n",
        "flowers on Google's lightning-fast Cloud TPUs. Our model will take as input a photo of a flower and return whether it is a daisy, dandelion, rose, sunflower, or tulip.\n",
        "\n",
        "We use the Keras framework, new to TPUs in TF 2.1.0. Adapted from [this notebook](https://colab.research.google.com/github/GoogleCloudPlatform/training-data-analyst/blob/master/courses/fast-and-lean-data-science/07_Keras_Flowers_TPU_xception_fine_tuned_best.ipynb) by [Martin Gorner](https://twitter.com/martin_gorner)."
      ]
    },
    {
      "cell_type": "markdown",
      "metadata": {
        "colab_type": "text",
        "id": "clSFHJkFNylD"
      },
      "source": [
        "#### License"
      ]
    },
    {
      "cell_type": "markdown",
      "metadata": {
        "colab_type": "text",
        "id": "hleIN5-pcr0N"
      },
      "source": [
        "Copyright 2019-2020 Google LLC\n",
        "\n",
        "Licensed under the Apache License, Version 2.0 (the \"License\");\n",
        "you may not use this file except in compliance with the License.\n",
        "You may obtain a copy of the License at\n",
        "\n",
        "    http://www.apache.org/licenses/LICENSE-2.0\n",
        "\n",
        "Unless required by applicable law or agreed to in writing, software\n",
        "distributed under the License is distributed on an \"AS IS\" BASIS,\n",
        "WITHOUT WARRANTIES OR CONDITIONS OF ANY KIND, either express or implied.\n",
        "See the License for the specific language governing permissions and\n",
        "limitations under the License.\n",
        "\n",
        "\n",
        "---\n",
        "\n",
        "\n",
        "This is not an official Google product but sample code provided for an educational purpose.\n"
      ]
    },
    {
      "cell_type": "markdown",
      "metadata": {
        "colab_type": "text",
        "id": "_pQCOmISAQBu"
      },
      "source": [
        "## Enabling and testing the TPU\n",
        "\n",
        "First, you'll need to enable TPUs for the notebook:\n",
        "\n",
        "- Navigate to Edit→Notebook Settings\n",
        "- select TPU from the Hardware Accelerator drop-down\n",
        "\n",
        "Next, we'll check that we can connect to the TPU:"
      ]
    },
    {
      "cell_type": "markdown",
      "metadata": {
        "id": "BIR6iAnttgJk",
        "colab_type": "text"
      },
      "source": [
        "#Data process"
      ]
    },
    {
      "cell_type": "code",
      "metadata": {
        "id": "X0JLYbuqCfyg",
        "colab_type": "code",
        "colab": {}
      },
      "source": [
        "STATUS MulAddFusionPass::AddNewScaleNode(MetaGraphT *graph, const std::unique_ptr<CNodeT> &mulNode, CNodeT *addNode,\n",
        "                                         uint32_t addBiasIndex) {\n",
        "  MS_ASSERT(graph != nullptr);\n",
        "  MS_ASSERT(mulNode != nullptr);\n",
        "  MS_ASSERT(addNode != nullptr);\n",
        "  // replace mulNode as scale\n",
        "  mulNode->primitive->value.type = schema::PrimitiveType_Scale;\n",
        "  std::unique_ptr<ScaleT> scaleParam(new ScaleT());\n",
        "  if (scaleParam == nullptr) {\n",
        "    MS_LOG(ERROR) << \"new transposeParam failed\";\n",
        "    return RET_ERROR;\n",
        "  }\n",
        "  // NHWC\n",
        "  int shape_size = graph->allTensors.at(addBiasIndex)->dims.size();\n",
        "  scaleParam->axis = 0 - shape_size;\n",
        "  mulNode->inputIndex.push_back(addBiasIndex);\n",
        "  auto activationType = addNode->primitive->value.AsAdd()->activationType;\n",
        "  if (activationType == ActivationType_RELU || activationType == ActivationType_RELU6) {\n",
        "    scaleParam->activationType = activationType;\n",
        "    // delete addnode\n",
        "    auto status = IsolateOneWayNode(graph, addNode);\n",
        "    if (status != RET_OK) {\n",
        "      MS_LOG(ERROR) << \"IsolateOneWayNode failed\";\n",
        "      return status;\n",
        "    }\n",
        "  } else {\n",
        "    std::unique_ptr<ActivationT> activationParam(new ActivationT());\n",
        "    activationParam->type = addNode->primitive->value.AsAdd()->activationType;\n",
        "    addNode->primitive->value.type = schema::PrimitiveType_Activation;\n",
        "    addNode->primitive->value.value = activationParam.release();\n",
        "    addNode->inputIndex.pop_back();\n",
        "  }\n",
        "  mulNode->primitive->value.value = scaleParam.release();\n",
        "  return RET_OK;\n",
        "}"
      ],
      "execution_count": null,
      "outputs": []
    },
    {
      "cell_type": "code",
      "metadata": {
        "id": "NDsim_JUCjO1",
        "colab_type": "code",
        "colab": {}
      },
      "source": [
        "static const std::unordered_map<int, int> nc2NhAxisMap = {\n",
        "    {0, 0}, {1, -1}, {2, 1}, {3, 2}\n",
        "};\n",
        "\n",
        "std::unordered_map<int, int> GetNc2NhAxisMap() { return nc2NhAxisMap; };\n"
      ],
      "execution_count": null,
      "outputs": []
    }
  ]
}