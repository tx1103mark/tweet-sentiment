{
  "nbformat": 4,
  "nbformat_minor": 0,
  "metadata": {
    "colab": {
      "name": "TPUs in Colab",
      "provenance": [],
      "collapsed_sections": [
        "clSFHJkFNylD"
      ],
      "include_colab_link": true
    },
    "kernelspec": {
      "display_name": "Python 3",
      "name": "python3"
    },
    "accelerator": "TPU"
  },
  "cells": [
    {
      "cell_type": "markdown",
      "metadata": {
        "id": "view-in-github",
        "colab_type": "text"
      },
      "source": [
        "<a href=\"https://colab.research.google.com/github/tx1103mark/tweet-sentiment/blob/master/TPUs_in_Colab.ipynb\" target=\"_parent\"><img src=\"https://colab.research.google.com/assets/colab-badge.svg\" alt=\"Open In Colab\"/></a>"
      ]
    },
    {
      "cell_type": "markdown",
      "metadata": {
        "id": "ovFDeMgtjqW4"
      },
      "source": [
        "# TPUs in Colab&nbsp; <a href=\"https://cloud.google.com/tpu/\"><img valign=\"middle\" src=\"https://raw.githubusercontent.com/GoogleCloudPlatform/tensorflow-without-a-phd/master/tensorflow-rl-pong/images/tpu-hexagon.png\" width=\"50\"></a>\n",
        "In this example, we'll work through training a model to classify images of\n",
        "flowers on Google's lightning-fast Cloud TPUs. Our model will take as input a photo of a flower and return whether it is a daisy, dandelion, rose, sunflower, or tulip.\n",
        "\n",
        "We use the Keras framework, new to TPUs in TF 2.1.0. Adapted from [this notebook](https://colab.research.google.com/github/GoogleCloudPlatform/training-data-analyst/blob/master/courses/fast-and-lean-data-science/07_Keras_Flowers_TPU_xception_fine_tuned_best.ipynb) by [Martin Gorner](https://twitter.com/martin_gorner)."
      ]
    },
    {
      "cell_type": "markdown",
      "metadata": {
        "id": "clSFHJkFNylD"
      },
      "source": [
        "#### License"
      ]
    },
    {
      "cell_type": "markdown",
      "metadata": {
        "id": "hleIN5-pcr0N"
      },
      "source": [
        "Copyright 2019-2020 Google LLC\n",
        "\n",
        "Licensed under the Apache License, Version 2.0 (the \"License\");\n",
        "you may not use this file except in compliance with the License.\n",
        "You may obtain a copy of the License at\n",
        "\n",
        "    http://www.apache.org/licenses/LICENSE-2.0\n",
        "\n",
        "Unless required by applicable law or agreed to in writing, software\n",
        "distributed under the License is distributed on an \"AS IS\" BASIS,\n",
        "WITHOUT WARRANTIES OR CONDITIONS OF ANY KIND, either express or implied.\n",
        "See the License for the specific language governing permissions and\n",
        "limitations under the License.\n",
        "\n",
        "\n",
        "---\n",
        "\n",
        "\n",
        "This is not an official Google product but sample code provided for an educational purpose.\n"
      ]
    },
    {
      "cell_type": "markdown",
      "metadata": {
        "id": "_pQCOmISAQBu"
      },
      "source": [
        "## Enabling and testing the TPU\n",
        "\n",
        "First, you'll need to enable TPUs for the notebook:\n",
        "\n",
        "- Navigate to Edit→Notebook Settings\n",
        "- select TPU from the Hardware Accelerator drop-down\n",
        "\n",
        "Next, we'll check that we can connect to the TPU:"
      ]
    },
    {
      "cell_type": "markdown",
      "metadata": {
        "id": "BIR6iAnttgJk"
      },
      "source": [
        "#Data process"
      ]
    },
    {
      "cell_type": "code",
      "metadata": {
        "id": "XNRtVGkT7YsB"
      },
      "source": [
        "package com.huawei.flclient.model;\n",
        "\n",
        "import com.mindspore.lite.MSTensor;\n",
        "import com.mindspore.lite.TrainSession;\n",
        "import mindspore.schema.FeatureMap;\n",
        "\n",
        "import java.nio.ByteBuffer;\n",
        "import java.nio.ByteOrder;\n",
        "import java.util.ArrayList;\n",
        "import java.util.List;\n",
        "\n",
        "public class ModelUtil {\n",
        "    public static List<MSTensor> getFeatures(TrainSession trainSession) {\n",
        "        List<MSTensor> featuresMap= trainSession.getFeaturesMap();\n",
        "        for(int i=0;i<5;i++){\n",
        "            MSTensor feature = featuresMap.get(i);\n",
        "            float[] data= feature.getFloatData();\n",
        "            String name = feature.tensorName();\n",
        "            int elements = feature.elementsNum();\n",
        "            System.out.println(\"tensorname:\"+name+\",len,\"+elements+\",\"+data[0]);\n",
        "        }\n",
        "        return featuresMap;\n",
        "    }\n",
        "    public static int updateFeatures(TrainSession trainSession, String modelName, List<FeatureMap> featureMaps) {\n",
        "        List<MSTensor> tensors = new ArrayList<>(featureMaps.size());\n",
        "        for (FeatureMap newFeature:featureMaps) {\n",
        "           ByteBuffer by = newFeature.dataAsByteBuffer();\n",
        "           ByteBuffer newData = ByteBuffer.allocateDirect(by.remaining());\n",
        "           newData.order(ByteOrder.nativeOrder());\n",
        "           newData.put(by);\n",
        "           tensors.add(new MSTensor(newFeature.weightFullname(),newData));\n",
        "        }\n",
        "        trainSession.updateFeatures(modelName,tensors);\n",
        "        return 0;\n",
        "    }\n",
        "}\n"
      ],
      "execution_count": null,
      "outputs": []
    }
  ]
}