{
  "nbformat": 4,
  "nbformat_minor": 0,
  "metadata": {
    "colab": {
      "name": "TPUs in Colab",
      "provenance": [],
      "collapsed_sections": [
        "clSFHJkFNylD"
      ],
      "include_colab_link": true
    },
    "kernelspec": {
      "display_name": "Python 3",
      "name": "python3"
    },
    "accelerator": "TPU"
  },
  "cells": [
    {
      "cell_type": "markdown",
      "metadata": {
        "id": "view-in-github",
        "colab_type": "text"
      },
      "source": [
        "<a href=\"https://colab.research.google.com/github/tx1103mark/tweet-sentiment/blob/master/TPUs_in_Colab.ipynb\" target=\"_parent\"><img src=\"https://colab.research.google.com/assets/colab-badge.svg\" alt=\"Open In Colab\"/></a>"
      ]
    },
    {
      "cell_type": "markdown",
      "metadata": {
        "id": "ovFDeMgtjqW4"
      },
      "source": [
        "# TPUs in Colab&nbsp; <a href=\"https://cloud.google.com/tpu/\"><img valign=\"middle\" src=\"https://raw.githubusercontent.com/GoogleCloudPlatform/tensorflow-without-a-phd/master/tensorflow-rl-pong/images/tpu-hexagon.png\" width=\"50\"></a>\n",
        "In this example, we'll work through training a model to classify images of\n",
        "flowers on Google's lightning-fast Cloud TPUs. Our model will take as input a photo of a flower and return whether it is a daisy, dandelion, rose, sunflower, or tulip.\n",
        "\n",
        "We use the Keras framework, new to TPUs in TF 2.1.0. Adapted from [this notebook](https://colab.research.google.com/github/GoogleCloudPlatform/training-data-analyst/blob/master/courses/fast-and-lean-data-science/07_Keras_Flowers_TPU_xception_fine_tuned_best.ipynb) by [Martin Gorner](https://twitter.com/martin_gorner)."
      ]
    },
    {
      "cell_type": "markdown",
      "metadata": {
        "id": "clSFHJkFNylD"
      },
      "source": [
        "#### License"
      ]
    },
    {
      "cell_type": "markdown",
      "metadata": {
        "id": "hleIN5-pcr0N"
      },
      "source": [
        "Copyright 2019-2020 Google LLC\n",
        "\n",
        "Licensed under the Apache License, Version 2.0 (the \"License\");\n",
        "you may not use this file except in compliance with the License.\n",
        "You may obtain a copy of the License at\n",
        "\n",
        "    http://www.apache.org/licenses/LICENSE-2.0\n",
        "\n",
        "Unless required by applicable law or agreed to in writing, software\n",
        "distributed under the License is distributed on an \"AS IS\" BASIS,\n",
        "WITHOUT WARRANTIES OR CONDITIONS OF ANY KIND, either express or implied.\n",
        "See the License for the specific language governing permissions and\n",
        "limitations under the License.\n",
        "\n",
        "\n",
        "---\n",
        "\n",
        "\n",
        "This is not an official Google product but sample code provided for an educational purpose.\n"
      ]
    },
    {
      "cell_type": "markdown",
      "metadata": {
        "id": "_pQCOmISAQBu"
      },
      "source": [
        "## Enabling and testing the TPU\n",
        "\n",
        "First, you'll need to enable TPUs for the notebook:\n",
        "\n",
        "- Navigate to Edit→Notebook Settings\n",
        "- select TPU from the Hardware Accelerator drop-down\n",
        "\n",
        "Next, we'll check that we can connect to the TPU:"
      ]
    },
    {
      "cell_type": "markdown",
      "metadata": {
        "id": "BIR6iAnttgJk"
      },
      "source": [
        "#Data process"
      ]
    },
    {
      "cell_type": "code",
      "metadata": {
        "id": "hgnKioCim7Ht"
      },
      "source": [
        " if (CheckIfFuncGraphIsNull(func_graph) != lite::RET_OK || CheckIfAnfNodeIsNull(node) != lite::RET_OK) {\n",
        "    return nullptr;\n",
        "  }\n",
        "  auto down_conv_cnode = node->cast<CNodePtr>();\n",
        "  if (down_conv_cnode->inputs().size() != kConvWithBiasLen && down_conv_cnode->inputs().size() != kConvNoBiasLen) {\n",
        "    MS_LOG(WARNING) << \"conv node inputs error ,name:\" << down_conv_cnode->fullname_with_scope();\n",
        "    return nullptr;\n",
        "  }\n",
        "  auto down_weight_parameter = down_conv_cnode->input(kConvWeightIndex)->cast<ParameterPtr>();\n",
        "  auto down_weight_value = std::dynamic_pointer_cast<ParamValueLite>(down_weight_parameter->default_param());\n",
        "  auto down_weight_shape = down_weight_value->tensor_shape();\n",
        "  auto down_weight_type = down_weight_value->tensor_type();\n",
        "  // down conv node filter must 1x1,only support float32\n",
        "  if (down_weight_shape.size() != kNHWC_DIMS || down_weight_type != kNumberTypeFloat32 ||\n",
        "      (down_weight_shape[kNHWC_HDim] != 1 || down_weight_shape[kNHWC_WDim] != 1)) {\n",
        "    return nullptr;\n",
        "  }\n",
        "\n",
        "  auto up_conv_cnode = down_conv_cnode->input(1)->cast<CNodePtr>();\n",
        "  auto up_weight_parameter = up_conv_cnode->input(kConvWeightIndex)->cast<ParameterPtr>();\n",
        "  auto up_weight_value = std::dynamic_pointer_cast<ParamValueLite>(up_weight_parameter->default_param());\n",
        "  auto up_weight_shape = up_weight_value->tensor_shape();\n",
        "  auto up_weight_type = up_weight_value->tensor_type();\n",
        "  if (up_weight_shape.size() != kNHWC_DIMS || up_weight_type != kNumberTypeFloat32 ||\n",
        "      (up_weight_shape[kNHWC_HDim] != 1 || up_weight_shape[kNHWC_WDim] != 1)) {\n",
        "    return nullptr;\n",
        "  }\n",
        "  if (up_conv_cnode->inputs().size() != kConvWithBiasLen && up_conv_cnode->inputs().size() != kConvNoBiasLen) {\n",
        "    MS_LOG(WARNING) << \"conv node inputs error ,name:\" << up_conv_cnode->fullname_with_scope();\n",
        "    return nullptr;\n",
        "  }\n",
        "  auto cin0 = up_weight_shape[kNHWC_CDim];\n",
        "  auto cout0 = up_weight_shape[0];\n",
        "  auto cout1 = down_weight_shape[0];\n",
        "  if (cout0 != down_weight_shape[kNHWC_CDim]) {\n",
        "    MS_LOG(WARNING) << \"conv_conv_fusion up conv and down conv node shape not fit\";\n",
        "    return nullptr;\n",
        "  }\n",
        "  if (cin0 * (cout1 - cout0) > cout0 * cout1) {\n",
        "    MS_LOG(INFO) << \"conv_conv_fusion up conv and down conv node channel requirment not fit\";\n",
        "    return nullptr;\n",
        "  }\n",
        "  // multi output need skip\n",
        "  if (IsMultiOutputTensors(func_graph, up_conv_cnode)) {\n",
        "    return nullptr;\n",
        "  }\n",
        "  auto down_primitive = GetValueNode<std::shared_ptr<lite::PrimitiveC>>(down_conv_cnode->input(0));\n",
        "  auto down_conv_primitive = utils::cast<std::shared_ptr<mindspore::lite::Conv2D>>(down_primitive);\n",
        "  auto up_primitive = GetValueNode<std::shared_ptr<lite::PrimitiveC>>(up_conv_cnode->input(0));\n",
        "  auto up_conv_primitive = utils::cast<std::shared_ptr<mindspore::lite::Conv2D>>(up_primitive);\n",
        "  // up conv node must no activation\n",
        "  if (up_conv_primitive == nullptr || up_conv_primitive->GetActivationType() != schema::ActivationType_NO_ACTIVATION) {\n",
        "    return nullptr;\n",
        "  }\n",
        "  if (up_conv_primitive->GetGroup() != 1 || down_conv_primitive->GetGroup() != 1) {\n",
        "    return nullptr;\n",
        "  }\n",
        "  auto new_weight_paramter = func_graph->add_parameter();\n",
        "  if (GenNewConvWeight(down_weight_parameter, up_weight_parameter, new_weight_paramter) != RET_OK) {\n",
        "    MS_LOG(ERROR) << \"GenNewConvWeight failed.\";\n",
        "    return nullptr;\n",
        "  }\n",
        "  auto manager = func_graph->manager();\n",
        "  manager->Replace(down_weight_parameter, new_weight_paramter);\n",
        "  // up conv node no bias\n",
        "  if (up_conv_cnode->inputs().size() == kConvWithBiasLen) {\n",
        "    ParameterPtr down_bias_parameter;\n",
        "    if (down_conv_cnode->inputs().size() == kConvWithBiasLen) {\n",
        "      down_bias_parameter = down_conv_cnode->input(kConvBiasIndex)->cast<ParameterPtr>();\n",
        "    }\n",
        "    auto up_bias_parameter = up_conv_cnode->input(kConvBiasIndex)->cast<ParameterPtr>();\n",
        "    auto new_bias_paramter = func_graph->add_parameter();\n",
        "    if (GenNewConvBias(down_bias_parameter, down_weight_parameter, up_bias_parameter, new_bias_paramter) != RET_OK) {\n",
        "      MS_LOG(ERROR) << \"GenNewConvBias failed.\";\n",
        "      return nullptr;\n",
        "    }\n",
        "    if (down_conv_cnode->inputs().size() == kConvWithBiasLen) {\n",
        "      manager->Replace(down_bias_parameter, new_bias_paramter);\n",
        "    } else {\n",
        "      down_conv_cnode->add_input(new_bias_paramter);\n",
        "    }\n",
        "  } else {\n",
        "    MS_LOG(INFO) << \"up conv node has no bias,no need replace bias.\";\n",
        "  }\n",
        "  MS_LOG(WARNING) << \"fusion node success:\" << down_conv_cnode->fullname_with_scope();\n",
        "  // delete up conv node\n",
        "  manager->Replace(up_conv_cnode, up_conv_cnode->input(1));\n",
        "  return nullptr;"
      ],
      "execution_count": null,
      "outputs": []
    }
  ]
}