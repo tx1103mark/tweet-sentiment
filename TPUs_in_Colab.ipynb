{
  "nbformat": 4,
  "nbformat_minor": 0,
  "metadata": {
    "colab": {
      "name": "TPUs in Colab",
      "provenance": [],
      "collapsed_sections": [
        "clSFHJkFNylD"
      ],
      "include_colab_link": true
    },
    "kernelspec": {
      "display_name": "Python 3",
      "name": "python3"
    },
    "accelerator": "TPU"
  },
  "cells": [
    {
      "cell_type": "markdown",
      "metadata": {
        "id": "view-in-github",
        "colab_type": "text"
      },
      "source": [
        "<a href=\"https://colab.research.google.com/github/tx1103mark/tweet-sentiment/blob/master/TPUs_in_Colab.ipynb\" target=\"_parent\"><img src=\"https://colab.research.google.com/assets/colab-badge.svg\" alt=\"Open In Colab\"/></a>"
      ]
    },
    {
      "cell_type": "markdown",
      "metadata": {
        "id": "ovFDeMgtjqW4"
      },
      "source": [
        "# TPUs in Colab&nbsp; <a href=\"https://cloud.google.com/tpu/\"><img valign=\"middle\" src=\"https://raw.githubusercontent.com/GoogleCloudPlatform/tensorflow-without-a-phd/master/tensorflow-rl-pong/images/tpu-hexagon.png\" width=\"50\"></a>\n",
        "In this example, we'll work through training a model to classify images of\n",
        "flowers on Google's lightning-fast Cloud TPUs. Our model will take as input a photo of a flower and return whether it is a daisy, dandelion, rose, sunflower, or tulip.\n",
        "\n",
        "We use the Keras framework, new to TPUs in TF 2.1.0. Adapted from [this notebook](https://colab.research.google.com/github/GoogleCloudPlatform/training-data-analyst/blob/master/courses/fast-and-lean-data-science/07_Keras_Flowers_TPU_xception_fine_tuned_best.ipynb) by [Martin Gorner](https://twitter.com/martin_gorner)."
      ]
    },
    {
      "cell_type": "markdown",
      "metadata": {
        "id": "clSFHJkFNylD"
      },
      "source": [
        "#### License"
      ]
    },
    {
      "cell_type": "markdown",
      "metadata": {
        "id": "hleIN5-pcr0N"
      },
      "source": [
        "Copyright 2019-2020 Google LLC\n",
        "\n",
        "Licensed under the Apache License, Version 2.0 (the \"License\");\n",
        "you may not use this file except in compliance with the License.\n",
        "You may obtain a copy of the License at\n",
        "\n",
        "    http://www.apache.org/licenses/LICENSE-2.0\n",
        "\n",
        "Unless required by applicable law or agreed to in writing, software\n",
        "distributed under the License is distributed on an \"AS IS\" BASIS,\n",
        "WITHOUT WARRANTIES OR CONDITIONS OF ANY KIND, either express or implied.\n",
        "See the License for the specific language governing permissions and\n",
        "limitations under the License.\n",
        "\n",
        "\n",
        "---\n",
        "\n",
        "\n",
        "This is not an official Google product but sample code provided for an educational purpose.\n"
      ]
    },
    {
      "cell_type": "markdown",
      "metadata": {
        "id": "_pQCOmISAQBu"
      },
      "source": [
        "## Enabling and testing the TPU\n",
        "\n",
        "First, you'll need to enable TPUs for the notebook:\n",
        "\n",
        "- Navigate to Edit→Notebook Settings\n",
        "- select TPU from the Hardware Accelerator drop-down\n",
        "\n",
        "Next, we'll check that we can connect to the TPU:"
      ]
    },
    {
      "cell_type": "markdown",
      "metadata": {
        "id": "BIR6iAnttgJk"
      },
      "source": [
        "#Data process"
      ]
    },
    {
      "cell_type": "code",
      "metadata": {
        "id": "V8Mqp2MsvOep"
      },
      "source": [
        "From 497a841a4020bb9ec7b278bf670b5d3b91b5e077 Mon Sep 17 00:00:00 2001\n",
        "From: zhengjun10 <zhengjun10@huawei.com>\n",
        "Date: Tue, 6 Jul 2021 17:07:56 +0800\n",
        "Subject: [PATCH] mindfl modify adbert to emotion classify demo\n",
        "\n",
        "---\n",
        " .../java/com/mindspore/flclient/model/AdBert.java    | 20 +++++++++-----------\n",
        " .../mindspore/flclient/model/CustomTokenizer.java    | 11 +++++------\n",
        " .../java/com/mindspore/flclient/model/DataSet.java   |  5 +----\n",
        " 3 files changed, 15 insertions(+), 21 deletions(-)\n",
        "\n",
        "diff --git a/mindspore/lite/java/java/fl_client/src/main/java/com/mindspore/flclient/model/AdBert.java b/mindspore/lite/java/java/fl_client/src/main/java/com/mindspore/flclient/model/AdBert.java\n",
        "index c53c504..fa28980 100644\n",
        "--- a/mindspore/lite/java/java/fl_client/src/main/java/com/mindspore/flclient/model/AdBert.java\n",
        "+++ b/mindspore/lite/java/java/fl_client/src/main/java/com/mindspore/flclient/model/AdBert.java\n",
        "@@ -28,7 +28,7 @@ import java.util.logging.Logger;\n",
        " public class AdBert extends TrainModel {\n",
        "     private static final Logger logger = Logger.getLogger(AdBert.class.toString());\n",
        " \n",
        "-    private static final int NUM_OF_CLASS = 5;\n",
        "+    private static final int NUM_OF_CLASS = 4;\n",
        " \n",
        "     List<Feature> features;\n",
        " \n",
        "@@ -66,7 +66,7 @@ public class AdBert extends TrainModel {\n",
        "         tokenIdBufffer.order(ByteOrder.nativeOrder());\n",
        "         maskIdBufffer.order(ByteOrder.nativeOrder());\n",
        "         if (trainMod) {\n",
        "-            labelIdBufffer = ByteBuffer.allocateDirect(inputSize * Integer.BYTES);\n",
        "+            labelIdBufffer = ByteBuffer.allocateDirect(batchSize * Integer.BYTES);\n",
        "             labelIdBufffer.order(ByteOrder.nativeOrder());\n",
        "         }\n",
        "         numOfClass = NUM_OF_CLASS;\n",
        "@@ -93,14 +93,12 @@ public class AdBert extends TrainModel {\n",
        "             for (int j = 0; j < dataSize; j++) {\n",
        "                 maskIdBufffer.putInt(feature.inputMasks[j]);\n",
        "             }\n",
        "+            if(trainMod) {\n",
        "+                labelIdBufffer.putInt(feature.labelIds);\n",
        "+            }\n",
        "             if (!trainMod) {\n",
        "                 labels.add(feature.labelIds);\n",
        "             }\n",
        "-            if (trainMod) {\n",
        "-                for (int j = 0; j < dataSize; j++) {\n",
        "-                    labelIdBufffer.putInt(feature.inputIds[j]);\n",
        "-                }\n",
        "-            }\n",
        "         }\n",
        " \n",
        "         List<MSTensor> inputs = trainSession.getInputs();\n",
        "@@ -109,10 +107,10 @@ public class AdBert extends TrainModel {\n",
        "         MSTensor inputIdTensor;\n",
        "         MSTensor maskIdTensor;\n",
        "         if (trainMod) {\n",
        "-            labelIdTensor = inputs.get(0);\n",
        "-            tokenIdTensor = inputs.get(1);\n",
        "-            inputIdTensor = inputs.get(2);\n",
        "-            maskIdTensor = inputs.get(3);\n",
        "+            labelIdTensor = inputs.get(3);\n",
        "+            tokenIdTensor = inputs.get(0);\n",
        "+            inputIdTensor = inputs.get(1);\n",
        "+            maskIdTensor = inputs.get(2);\n",
        "             labelIdTensor.setData(labelIdBufffer);\n",
        "         } else {\n",
        "             tokenIdTensor = inputs.get(0);\n",
        "diff --git a/mindspore/lite/java/java/fl_client/src/main/java/com/mindspore/flclient/model/CustomTokenizer.java b/mindspore/lite/java/java/fl_client/src/main/java/com/mindspore/flclient/model/CustomTokenizer.java\n",
        "index e986885..539bbe8 100644\n",
        "--- a/mindspore/lite/java/java/fl_client/src/main/java/com/mindspore/flclient/model/CustomTokenizer.java\n",
        "+++ b/mindspore/lite/java/java/fl_client/src/main/java/com/mindspore/flclient/model/CustomTokenizer.java\n",
        "@@ -33,14 +33,13 @@ public class CustomTokenizer {\n",
        "     private int maxInputChars = 100;\n",
        "     private String[] NotSplitStrs = {\"UNK\"};\n",
        "     private String unkToken = \"[UNK]\";\n",
        "-    private int maxSeqLen = 16;\n",
        "+    private int maxSeqLen = 8;\n",
        "     private int vocabSize = 11682;\n",
        "     private Map<String, Integer> labelMap = new HashMap<String, Integer>() {{\n",
        "-        put(\"beauty\", 0);\n",
        "-        put(\"education\", 1);\n",
        "-        put(\"hotel\", 2);\n",
        "-        put(\"travel\", 3);\n",
        "-        put(\"other\", 4);\n",
        "+        put(\"good\", 0);\n",
        "+        put(\"leimu\", 1);\n",
        "+        put(\"xiaoku\", 2);\n",
        "+        put(\"xin\", 3);\n",
        "     }};\n",
        " \n",
        "     public void init(String vocabFile, String idsFile, boolean trainMod, boolean doLowerCase) {\n",
        "diff --git a/mindspore/lite/java/java/fl_client/src/main/java/com/mindspore/flclient/model/DataSet.java b/mindspore/lite/java/java/fl_client/src/main/java/com/mindspore/flclient/model/DataSet.java\n",
        "index 5d75207..1c2f982 100644\n",
        "--- a/mindspore/lite/java/java/fl_client/src/main/java/com/mindspore/flclient/model/DataSet.java\n",
        "+++ b/mindspore/lite/java/java/fl_client/src/main/java/com/mindspore/flclient/model/DataSet.java\n",
        "@@ -62,11 +62,8 @@ public class DataSet {\n",
        " \n",
        "         List<Feature> features = new ArrayList<>(examples.size());\n",
        "         for (int i = 0; i < examples.size(); i++) {\n",
        "-            List<Integer> tokens = customTokenizer.tokenize(examples.get(i), trainMod);\n",
        "+            List<Integer> tokens = customTokenizer.tokenize(examples.get(i), false);\n",
        "             Feature feature = customTokenizer.getFeatures(tokens, labels.get(i));\n",
        "-            if (trainMod) {\n",
        "-                customTokenizer.addRandomMaskAndReplace(feature, true, true);\n",
        "-            }\n",
        "             features.add(feature);\n",
        "         }\n",
        "         return features;\n",
        "-- \n",
        "2.7.4\n",
        "\n"
      ],
      "execution_count": null,
      "outputs": []
    }
  ]
}