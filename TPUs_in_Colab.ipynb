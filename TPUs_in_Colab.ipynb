{
  "nbformat": 4,
  "nbformat_minor": 0,
  "metadata": {
    "colab": {
      "name": "TPUs in Colab",
      "provenance": [],
      "collapsed_sections": [
        "clSFHJkFNylD"
      ],
      "include_colab_link": true
    },
    "kernelspec": {
      "display_name": "Python 3",
      "name": "python3"
    },
    "accelerator": "TPU"
  },
  "cells": [
    {
      "cell_type": "markdown",
      "metadata": {
        "id": "view-in-github",
        "colab_type": "text"
      },
      "source": [
        "<a href=\"https://colab.research.google.com/github/tx1103mark/tweet-sentiment/blob/master/TPUs_in_Colab.ipynb\" target=\"_parent\"><img src=\"https://colab.research.google.com/assets/colab-badge.svg\" alt=\"Open In Colab\"/></a>"
      ]
    },
    {
      "cell_type": "markdown",
      "metadata": {
        "id": "ovFDeMgtjqW4"
      },
      "source": [
        "# TPUs in Colab&nbsp; <a href=\"https://cloud.google.com/tpu/\"><img valign=\"middle\" src=\"https://raw.githubusercontent.com/GoogleCloudPlatform/tensorflow-without-a-phd/master/tensorflow-rl-pong/images/tpu-hexagon.png\" width=\"50\"></a>\n",
        "In this example, we'll work through training a model to classify images of\n",
        "flowers on Google's lightning-fast Cloud TPUs. Our model will take as input a photo of a flower and return whether it is a daisy, dandelion, rose, sunflower, or tulip.\n",
        "\n",
        "We use the Keras framework, new to TPUs in TF 2.1.0. Adapted from [this notebook](https://colab.research.google.com/github/GoogleCloudPlatform/training-data-analyst/blob/master/courses/fast-and-lean-data-science/07_Keras_Flowers_TPU_xception_fine_tuned_best.ipynb) by [Martin Gorner](https://twitter.com/martin_gorner)."
      ]
    },
    {
      "cell_type": "markdown",
      "metadata": {
        "id": "clSFHJkFNylD"
      },
      "source": [
        "#### License"
      ]
    },
    {
      "cell_type": "markdown",
      "metadata": {
        "id": "hleIN5-pcr0N"
      },
      "source": [
        "Copyright 2019-2020 Google LLC\n",
        "\n",
        "Licensed under the Apache License, Version 2.0 (the \"License\");\n",
        "you may not use this file except in compliance with the License.\n",
        "You may obtain a copy of the License at\n",
        "\n",
        "    http://www.apache.org/licenses/LICENSE-2.0\n",
        "\n",
        "Unless required by applicable law or agreed to in writing, software\n",
        "distributed under the License is distributed on an \"AS IS\" BASIS,\n",
        "WITHOUT WARRANTIES OR CONDITIONS OF ANY KIND, either express or implied.\n",
        "See the License for the specific language governing permissions and\n",
        "limitations under the License.\n",
        "\n",
        "\n",
        "---\n",
        "\n",
        "\n",
        "This is not an official Google product but sample code provided for an educational purpose.\n"
      ]
    },
    {
      "cell_type": "markdown",
      "metadata": {
        "id": "_pQCOmISAQBu"
      },
      "source": [
        "## Enabling and testing the TPU\n",
        "\n",
        "First, you'll need to enable TPUs for the notebook:\n",
        "\n",
        "- Navigate to Edit→Notebook Settings\n",
        "- select TPU from the Hardware Accelerator drop-down\n",
        "\n",
        "Next, we'll check that we can connect to the TPU:"
      ]
    },
    {
      "cell_type": "markdown",
      "metadata": {
        "id": "BIR6iAnttgJk"
      },
      "source": [
        "#Data process"
      ]
    },
    {
      "cell_type": "code",
      "metadata": {
        "id": "MnXo0VxCVrXJ"
      },
      "source": [
        "/**\n",
        " * Copyright 2020 Huawei Technologies Co., Ltd\n",
        " *\n",
        " * Licensed under the Apache License, Version 2.0 (the \"License\");\n",
        " * you may not use this file except in compliance with the License.\n",
        " * You may obtain a copy of the License at\n",
        " *\n",
        " * http://www.apache.org/licenses/LICENSE-2.0\n",
        " *\n",
        " * Unless required by applicable law or agreed to in writing, software\n",
        " * distributed under the License is distributed on an \"AS IS\" BASIS,\n",
        " * WITHOUT WARRANTIES OR CONDITIONS OF ANY KIND, either express or implied.\n",
        " * See the License for the specific language governing permissions and\n",
        " * limitations under the License.\n",
        " */\n",
        "\n",
        "#ifndef MINDSPORE_LITE_TOOLS_CONVERTER_PARSER_TF_MODEL_PARSER_H\n",
        "#define MINDSPORE_LITE_TOOLS_CONVERTER_PARSER_TF_MODEL_PARSER_H\n",
        "\n",
        "#include <string>\n",
        "#include <vector>\n",
        "#include <memory>\n",
        "#include <map>\n",
        "#include <unordered_map>\n",
        "#include \"securec/include/securec.h\"\n",
        "#include \"tools/common/tensor_util.h\"\n",
        "#include \"tools/converter/model_parser.h\"\n",
        "#include \"schema/inner/model_generated.h\"\n",
        "#include \"proto/node_def.pb.h\"\n",
        "#include \"proto/graph.pb.h\"\n",
        "\n",
        "namespace mindspore {\n",
        "namespace lite {\n",
        "class TFModelParser : public ModelParser {\n",
        " public:\n",
        "  TFModelParser() = default;\n",
        "  ~TFModelParser() = default;\n",
        "\n",
        "  FuncGraphPtr Parse(const std::string &modelFile, const std::string &weightFile, const QuantType &quantType);\n",
        "\n",
        " protected:\n",
        "  schema::MetaGraphT *ParseToFb(const std::string &modelFile, const std::string &weightFile,\n",
        "                                const QuantType &quantType = QuantType_QUANT_NONE) override;\n",
        "\n",
        " private:\n",
        "  STATUS ConvertConstTensor(const tensorflow::AttrValue &attr_value, const TypeId &type, const ParameterPtr &parameter,\n",
        "                            std::vector<int64_t> *shape_vector);\n",
        "  STATUS ConvertParameter(const tensorflow::NodeDef &node,\n",
        "                          const ParameterPtr &parameter,\n",
        "                          std::unordered_map<std::string, AnfNodePtr> *anf_node_map);\n",
        "  STATUS ConvertGraphInputsAndConsts(const std::map<std::string, const tensorflow::NodeDef *> &tf_graph_nodes,\n",
        "                                     const FuncGraphPtr &anf_graph,\n",
        "                                     std::unordered_map<std::string, AnfNodePtr> *anf_node_map);\n",
        "  STATUS ConvertInputNodes(const tensorflow::NodeDef &node_def,\n",
        "                           const std::vector<std::string> &input_names,\n",
        "                           const std::map<std::string, const tensorflow::NodeDef *> &tf_node_map,\n",
        "                           const std::unordered_map<std::string, AnfNodePtr> &anf_node_map,\n",
        "                           std::vector<AnfNodePtr> *inputs);\n",
        "  STATUS ConvertOutputTensor(const tensorflow::NodeDef &op,\n",
        "                             const CNodePtr &anf_node,\n",
        "                             std::unordered_map<std::string, AnfNodePtr> *anf_node_map,\n",
        "                             const FuncGraphPtr &anf_graph,\n",
        "                             int output_size);\n",
        "  STATUS ConvertOps(const tensorflow::NodeDef &node_def,\n",
        "                    const std::map<std::string, const tensorflow::NodeDef *> &tf_node_map,\n",
        "                    const FuncGraphPtr &func_graph_ptr,\n",
        "                    std::unordered_map<std::string, AnfNodePtr> *anf_node_map);\n",
        "  STATUS ConvertRootGraphOutputs();\n",
        "\n",
        "  STATUS ConvertSubgraph();\n",
        "\n",
        "  STATUS WhileNodePostProcess(const std::map<CNodePtr, FuncGraphPtr> &while_cond_map,const std::map<CNodePtr, FuncGraphPtr> &while_body_map);\n",
        "\n",
        "  STATUS MakeAnfGraphOutputs(std::vector<AnfNodePtr> *output_nodes, const FuncGraphPtr &anf_graph);\n",
        "\n",
        "  FuncGraphPtr anf_root_graph;\n",
        "  std::unique_ptr<tensorflow::GraphDef> tf_root_graph;  // tf root graph def\n",
        "  std::map<std::string, const tensorflow::NodeDef *> tf_root_graph_nodes;  // tf root graph node map\n",
        "  std::unordered_map<std::string, AnfNodePtr> anf_root_node_map;\n",
        "  std::vector<std::string> graph_input_names;\n",
        "  std::vector<std::string> graph_output_names;\n",
        "  std::map<std::string, AnfNodePtr> function_while_map;  // tf function name->while_node_name\n",
        "};\n",
        "}  // namespace lite\n",
        "}  // namespace mindspore\n",
        "#endif  // MINDSPORE_LITE_TOOLS_CONVERTER_PARSER_TF_MODEL_PARSER_H\n"
      ],
      "execution_count": null,
      "outputs": []
    }
  ]
}