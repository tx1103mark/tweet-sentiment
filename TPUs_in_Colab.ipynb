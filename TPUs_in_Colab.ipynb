{
  "nbformat": 4,
  "nbformat_minor": 0,
  "metadata": {
    "colab": {
      "name": "TPUs in Colab",
      "provenance": [],
      "collapsed_sections": [
        "clSFHJkFNylD"
      ],
      "include_colab_link": true
    },
    "kernelspec": {
      "display_name": "Python 3",
      "name": "python3"
    },
    "accelerator": "TPU"
  },
  "cells": [
    {
      "cell_type": "markdown",
      "metadata": {
        "id": "view-in-github",
        "colab_type": "text"
      },
      "source": [
        "<a href=\"https://colab.research.google.com/github/tx1103mark/tweet-sentiment/blob/master/TPUs_in_Colab.ipynb\" target=\"_parent\"><img src=\"https://colab.research.google.com/assets/colab-badge.svg\" alt=\"Open In Colab\"/></a>"
      ]
    },
    {
      "cell_type": "markdown",
      "metadata": {
        "id": "ovFDeMgtjqW4"
      },
      "source": [
        "# TPUs in Colab&nbsp; <a href=\"https://cloud.google.com/tpu/\"><img valign=\"middle\" src=\"https://raw.githubusercontent.com/GoogleCloudPlatform/tensorflow-without-a-phd/master/tensorflow-rl-pong/images/tpu-hexagon.png\" width=\"50\"></a>\n",
        "In this example, we'll work through training a model to classify images of\n",
        "flowers on Google's lightning-fast Cloud TPUs. Our model will take as input a photo of a flower and return whether it is a daisy, dandelion, rose, sunflower, or tulip.\n",
        "\n",
        "We use the Keras framework, new to TPUs in TF 2.1.0. Adapted from [this notebook](https://colab.research.google.com/github/GoogleCloudPlatform/training-data-analyst/blob/master/courses/fast-and-lean-data-science/07_Keras_Flowers_TPU_xception_fine_tuned_best.ipynb) by [Martin Gorner](https://twitter.com/martin_gorner)."
      ]
    },
    {
      "cell_type": "markdown",
      "metadata": {
        "id": "clSFHJkFNylD"
      },
      "source": [
        "#### License"
      ]
    },
    {
      "cell_type": "markdown",
      "metadata": {
        "id": "hleIN5-pcr0N"
      },
      "source": [
        "Copyright 2019-2020 Google LLC\n",
        "\n",
        "Licensed under the Apache License, Version 2.0 (the \"License\");\n",
        "you may not use this file except in compliance with the License.\n",
        "You may obtain a copy of the License at\n",
        "\n",
        "    http://www.apache.org/licenses/LICENSE-2.0\n",
        "\n",
        "Unless required by applicable law or agreed to in writing, software\n",
        "distributed under the License is distributed on an \"AS IS\" BASIS,\n",
        "WITHOUT WARRANTIES OR CONDITIONS OF ANY KIND, either express or implied.\n",
        "See the License for the specific language governing permissions and\n",
        "limitations under the License.\n",
        "\n",
        "\n",
        "---\n",
        "\n",
        "\n",
        "This is not an official Google product but sample code provided for an educational purpose.\n"
      ]
    },
    {
      "cell_type": "markdown",
      "metadata": {
        "id": "_pQCOmISAQBu"
      },
      "source": [
        "## Enabling and testing the TPU\n",
        "\n",
        "First, you'll need to enable TPUs for the notebook:\n",
        "\n",
        "- Navigate to Edit→Notebook Settings\n",
        "- select TPU from the Hardware Accelerator drop-down\n",
        "\n",
        "Next, we'll check that we can connect to the TPU:"
      ]
    },
    {
      "cell_type": "markdown",
      "metadata": {
        "id": "BIR6iAnttgJk"
      },
      "source": [
        "#Data process"
      ]
    },
    {
      "cell_type": "code",
      "metadata": {
        "id": "S93a3Yz_tHf4"
      },
      "source": [
        "From fb1d9f2eac9731920a485cc30b6b7d64d0110fc7 Mon Sep 17 00:00:00 2001\r\n",
        "From: guohongzilong <guohongzilong@huawei.com>\r\n",
        "Date: Tue, 16 Mar 2021 20:47:38 +0800\r\n",
        "Subject: [PATCH] fix unmond bug\r\n",
        "\r\n",
        "---\r\n",
        " mindspore/lite/tools/anf_exporter/anf_exporter.cc  |  7 +--\r\n",
        " .../optimizer/graph/redundant_op_remove_pass.cc    | 50 +++++++++++++++++++++-\r\n",
        " .../optimizer/graph/redundant_op_remove_pass.h     |  1 +\r\n",
        " 3 files changed, 53 insertions(+), 5 deletions(-)\r\n",
        "\r\n",
        "diff --git a/mindspore/lite/tools/anf_exporter/anf_exporter.cc b/mindspore/lite/tools/anf_exporter/anf_exporter.cc\r\n",
        "index 7a7207c..4d6e226 100644\r\n",
        "--- a/mindspore/lite/tools/anf_exporter/anf_exporter.cc\r\n",
        "+++ b/mindspore/lite/tools/anf_exporter/anf_exporter.cc\r\n",
        "@@ -135,6 +135,7 @@ void AnfExporter::RemoveIfDepend(const CNodePtr &cnode) {\r\n",
        "                                            opt::CheckPrimitiveType(depend_node, prim::kPrimControlDepend))) {\r\n",
        "       has_depend = true;\r\n",
        "       bool mask_out = (depend_node->inputs().size() == 3);\r\n",
        "+      mask_out = true;\r\n",
        "       for (size_t j = 1; j < depend_node->inputs().size(); ++j) {\r\n",
        "         AnfNodePtr depend_input_node = depend_node->input(j);\r\n",
        "         if (depend_input_node->isa<CNode>()) {\r\n",
        "@@ -361,9 +362,9 @@ int AnfExporter::Anf2Fb(const FuncGraphPtr &func_graph, const std::unique_ptr<sc\r\n",
        "     if (prim->name() == mindspore::ops::kNameDepend || prim->name() == mindspore::ops::kNameControlDepend) {\r\n",
        "       continue;\r\n",
        "     }\r\n",
        "-    if (prim->name() == \"make_tuple\") {\r\n",
        "-      continue;\r\n",
        "-    }\r\n",
        "+//    if (prim->name() == \"make_tuple\") {\r\n",
        "+//      continue;\r\n",
        "+//    }\r\n",
        " \r\n",
        "     if (prim->name() == mindspore::ops::kNameTupleGetItem || prim->name() == mindspore::ops::kNameMakeTuple) {\r\n",
        "       continue;\r\n",
        "diff --git a/mindspore/lite/tools/optimizer/graph/redundant_op_remove_pass.cc b/mindspore/lite/tools/optimizer/graph/redundant_op_remove_pass.cc\r\n",
        "index 7cb738c..87dde56 100644\r\n",
        "--- a/mindspore/lite/tools/optimizer/graph/redundant_op_remove_pass.cc\r\n",
        "+++ b/mindspore/lite/tools/optimizer/graph/redundant_op_remove_pass.cc\r\n",
        "@@ -15,12 +15,28 @@\r\n",
        "  */\r\n",
        " \r\n",
        " #include \"tools/optimizer/graph/redundant_op_remove_pass.h\"\r\n",
        "-#include \"mindspore/lite/include/errorcode.h\"\r\n",
        "+#include <memory>\r\n",
        "+#include <vector>\r\n",
        "+#include \"include/errorcode.h\"\r\n",
        "+#include \"ops/make_tuple.h\"\r\n",
        " \r\n",
        " namespace mindspore::opt {\r\n",
        " namespace {\r\n",
        " constexpr size_t InputDoubleNum = 2;\r\n",
        " constexpr size_t InputTripleNum = 3;\r\n",
        "+void FetchCNodeFromMakeTuple(const AnfNodePtr &anf_node, std::vector<AnfNodePtr> *inputs) {\r\n",
        "+  MS_ASSERT(anf_node != nullptr);\r\n",
        "+  MS_ASSERT(inputs != nullptr);\r\n",
        "+  auto cnode = anf_node->cast<CNodePtr>();\r\n",
        "+  if (cnode == nullptr) {\r\n",
        "+    return;\r\n",
        "+  }\r\n",
        "+  for (size_t i = 1; i < cnode->size(); ++i) {\r\n",
        "+    if (cnode->input(i)->isa<CNode>()) {\r\n",
        "+      inputs->push_back(cnode->input(i));\r\n",
        "+    }\r\n",
        "+  }\r\n",
        "+}\r\n",
        " }  // namespace\r\n",
        " int RemoveRedundantOpPass::ReplaceOp(const AnfNodePtr &anf_node, const FuncGraphManagerPtr &manager) {\r\n",
        "   if (!utils::isa<CNodePtr>(anf_node)) {\r\n",
        "@@ -58,6 +74,36 @@ int RemoveRedundantOpPass::ReplaceOp(const AnfNodePtr &anf_node, const FuncGraph\r\n",
        "   return RET_OK;\r\n",
        " }\r\n",
        " \r\n",
        "+int RemoveRedundantOpPass::ReplaceUpdateStateOp(const FuncGraphPtr &func_graph, const AnfNodePtr &anf_node) {\r\n",
        "+  if (!utils::isa<CNodePtr>(anf_node)) {\r\n",
        "+    MS_LOG(DEBUG) << \"anf node is node a cnode.\";\r\n",
        "+    return lite::RET_NO_CHANGE;\r\n",
        "+  }\r\n",
        "+  auto cnode = anf_node->cast<CNodePtr>();\r\n",
        "+  auto inputs = cnode->inputs();\r\n",
        "+  std::vector<AnfNodePtr> new_inputs;\r\n",
        "+  for (size_t i = 1; i < inputs.size(); ++i) {\r\n",
        "+    if (!inputs[i]->isa<CNode>()) {\r\n",
        "+      continue;\r\n",
        "+    }\r\n",
        "+    if (CheckPrimitiveType(inputs[i], prim::kPrimMakeTuple)) {\r\n",
        "+      FetchCNodeFromMakeTuple(inputs[i], &new_inputs);\r\n",
        "+      continue;\r\n",
        "+    }\r\n",
        "+    new_inputs.push_back(inputs[i]);\r\n",
        "+  }\r\n",
        "+  for (auto &node : new_inputs) {\r\n",
        "+    func_graph->get_return()->add_input(node);\r\n",
        "+  }\r\n",
        "+  auto value = std::make_shared<UMonad>();\r\n",
        "+  bool replace_succ = func_graph->manager()->Replace(anf_node, NewValueNode(value));\r\n",
        "+  if (!replace_succ) {\r\n",
        "+    MS_LOG(ERROR) << \"replace redundant op failed.\";\r\n",
        "+    return lite::RET_ERROR;\r\n",
        "+  }\r\n",
        "+  return RET_OK;\r\n",
        "+}\r\n",
        "+\r\n",
        " int RemoveRedundantOpPass::ReplaceTupleGetItem(const AnfNodePtr &anf_node, const FuncGraphManagerPtr &manager) {\r\n",
        "   if (!utils::isa<CNodePtr>(anf_node)) {\r\n",
        "     MS_LOG(DEBUG) << \"anf node is node a cnode.\";\r\n",
        "@@ -111,7 +157,7 @@ bool RemoveRedundantOpPass::Run(const FuncGraphPtr &func_graph) {\r\n",
        "       status = ReplaceOp(node, manager);\r\n",
        "     }\r\n",
        "     if (CheckPrimitiveType(node, prim::kPrimUpdateState)) {\r\n",
        "-      status = ReplaceOp(node, manager);\r\n",
        "+      status = ReplaceUpdateStateOp(func_graph, node);\r\n",
        "     }\r\n",
        "     if (CheckPrimitiveType(node, prim::kPrimTupleGetItem)) {\r\n",
        "       status = ReplaceTupleGetItem(node, manager);\r\n",
        "diff --git a/mindspore/lite/tools/optimizer/graph/redundant_op_remove_pass.h b/mindspore/lite/tools/optimizer/graph/redundant_op_remove_pass.h\r\n",
        "index 1bef786..ad7532a 100644\r\n",
        "--- a/mindspore/lite/tools/optimizer/graph/redundant_op_remove_pass.h\r\n",
        "+++ b/mindspore/lite/tools/optimizer/graph/redundant_op_remove_pass.h\r\n",
        "@@ -29,6 +29,7 @@ class RemoveRedundantOpPass : public Pass {\r\n",
        "   RemoveRedundantOpPass() : Pass(\"remove_redundant_op_pass\") {}\r\n",
        "   ~RemoveRedundantOpPass() override = default;\r\n",
        "   int ReplaceOp(const AnfNodePtr &anf_node, const FuncGraphManagerPtr &manager);\r\n",
        "+  int ReplaceUpdateStateOp(const FuncGraphPtr &func_graph, const AnfNodePtr &anf_node);\r\n",
        "   int ReplaceTupleGetItem(const AnfNodePtr &anf_node, const FuncGraphManagerPtr &manager);\r\n",
        "   bool Run(const FuncGraphPtr &graph) override;\r\n",
        " \r\n",
        "-- \r\n",
        "2.7.4\r\n",
        "\r\n"
      ],
      "execution_count": null,
      "outputs": []
    }
  ]
}