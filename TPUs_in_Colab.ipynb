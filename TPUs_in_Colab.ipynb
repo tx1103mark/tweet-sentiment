{
  "nbformat": 4,
  "nbformat_minor": 0,
  "metadata": {
    "colab": {
      "name": "TPUs in Colab",
      "provenance": [],
      "collapsed_sections": [
        "clSFHJkFNylD"
      ],
      "include_colab_link": true
    },
    "kernelspec": {
      "display_name": "Python 3",
      "name": "python3"
    },
    "accelerator": "TPU"
  },
  "cells": [
    {
      "cell_type": "markdown",
      "metadata": {
        "id": "view-in-github",
        "colab_type": "text"
      },
      "source": [
        "<a href=\"https://colab.research.google.com/github/tx1103mark/tweet-sentiment/blob/master/TPUs_in_Colab.ipynb\" target=\"_parent\"><img src=\"https://colab.research.google.com/assets/colab-badge.svg\" alt=\"Open In Colab\"/></a>"
      ]
    },
    {
      "cell_type": "markdown",
      "metadata": {
        "id": "ovFDeMgtjqW4"
      },
      "source": [
        "# TPUs in Colab&nbsp; <a href=\"https://cloud.google.com/tpu/\"><img valign=\"middle\" src=\"https://raw.githubusercontent.com/GoogleCloudPlatform/tensorflow-without-a-phd/master/tensorflow-rl-pong/images/tpu-hexagon.png\" width=\"50\"></a>\n",
        "In this example, we'll work through training a model to classify images of\n",
        "flowers on Google's lightning-fast Cloud TPUs. Our model will take as input a photo of a flower and return whether it is a daisy, dandelion, rose, sunflower, or tulip.\n",
        "\n",
        "We use the Keras framework, new to TPUs in TF 2.1.0. Adapted from [this notebook](https://colab.research.google.com/github/GoogleCloudPlatform/training-data-analyst/blob/master/courses/fast-and-lean-data-science/07_Keras_Flowers_TPU_xception_fine_tuned_best.ipynb) by [Martin Gorner](https://twitter.com/martin_gorner)."
      ]
    },
    {
      "cell_type": "markdown",
      "metadata": {
        "id": "clSFHJkFNylD"
      },
      "source": [
        "#### License"
      ]
    },
    {
      "cell_type": "markdown",
      "metadata": {
        "id": "hleIN5-pcr0N"
      },
      "source": [
        "Copyright 2019-2020 Google LLC\n",
        "\n",
        "Licensed under the Apache License, Version 2.0 (the \"License\");\n",
        "you may not use this file except in compliance with the License.\n",
        "You may obtain a copy of the License at\n",
        "\n",
        "    http://www.apache.org/licenses/LICENSE-2.0\n",
        "\n",
        "Unless required by applicable law or agreed to in writing, software\n",
        "distributed under the License is distributed on an \"AS IS\" BASIS,\n",
        "WITHOUT WARRANTIES OR CONDITIONS OF ANY KIND, either express or implied.\n",
        "See the License for the specific language governing permissions and\n",
        "limitations under the License.\n",
        "\n",
        "\n",
        "---\n",
        "\n",
        "\n",
        "This is not an official Google product but sample code provided for an educational purpose.\n"
      ]
    },
    {
      "cell_type": "markdown",
      "metadata": {
        "id": "_pQCOmISAQBu"
      },
      "source": [
        "## Enabling and testing the TPU\n",
        "\n",
        "First, you'll need to enable TPUs for the notebook:\n",
        "\n",
        "- Navigate to Edit→Notebook Settings\n",
        "- select TPU from the Hardware Accelerator drop-down\n",
        "\n",
        "Next, we'll check that we can connect to the TPU:"
      ]
    },
    {
      "cell_type": "markdown",
      "metadata": {
        "id": "BIR6iAnttgJk"
      },
      "source": [
        "#Data process"
      ]
    },
    {
      "cell_type": "code",
      "metadata": {
        "id": "hgnKioCim7Ht"
      },
      "source": [
        "/**\n",
        " * Copyright 2020 Huawei Technologies Co., Ltd\n",
        " *\n",
        " * Licensed under the Apache License, Version 2.0 (the \"License\");\n",
        " * you may not use this file except in compliance with the License.\n",
        " * You may obtain a copy of the License at\n",
        " *\n",
        " * http://www.apache.org/licenses/LICENSE-2.0\n",
        " *\n",
        " * Unless required by applicable law or agreed to in writing, software\n",
        " * distributed under the License is distributed on an \"AS IS\" BASIS,\n",
        " * WITHOUT WARRANTIES OR CONDITIONS OF ANY KIND, either express or implied.\n",
        " * See the License for the specific language governing permissions and\n",
        " * limitations under the License.\n",
        " */\n",
        "\n",
        "#ifndef MINDSPORE_LITE_TOOLS_CONVERTER_PARSER_TF_NODE_PARSER_REGISTRY_H\n",
        "#define MINDSPORE_LITE_TOOLS_CONVERTER_PARSER_TF_NODE_PARSER_REGISTRY_H\n",
        "\n",
        "#include <string>\n",
        "#include <unordered_map>\n",
        "#include \"tf_node_parser.h\"\n",
        "\n",
        "namespace mindspore {\n",
        "namespace lite {\n",
        "class TFNodeParserRegistry {\n",
        " public:\n",
        "  TFNodeParserRegistry() = default;\n",
        "\n",
        "  virtual ~TFNodeParserRegistry();\n",
        "\n",
        "  static TFNodeParserRegistry *GetInstance();\n",
        "  TFNodeParser *GetNodeParser(const std::string &name);\n",
        "\n",
        "  std::unordered_map<std::string, TFNodeParser *> parsers;\n",
        "};\n",
        "\n",
        "class TFNodeRegistrar {\n",
        " public:\n",
        "  TFNodeRegistrar(const std::string &name, TFNodeParser *parser) {\n",
        "    TFNodeParserRegistry::GetInstance()->parsers[name] = parser;\n",
        "  }\n",
        "  ~TFNodeRegistrar() = default;\n",
        "};\n",
        "}  // namespace lite\n",
        "}  // namespace mindspore\n",
        "\n",
        "#endif  // MINDSPORE_LITE_TOOLS_CONVERTER_PARSER_TF_NODE_PARSER_REGISTRY_H\n"
      ],
      "execution_count": null,
      "outputs": []
    },
    {
      "cell_type": "code",
      "metadata": {
        "id": "S6OR7UU9k8Ml"
      },
      "source": [
        "/**\n",
        " * Copyright 2020 Huawei Technologies Co., Ltd\n",
        " *\n",
        " * Licensed under the Apache License, Version 2.0 (the \"License\");\n",
        " * you may not use this file except in compliance with the License.\n",
        " * You may obtain a copy of the License at\n",
        " *\n",
        " * http://www.apache.org/licenses/LICENSE-2.0\n",
        " *\n",
        " * Unless required by applicable law or agreed to in writing, software\n",
        " * distributed under the License is distributed on an \"AS IS\" BASIS,\n",
        " * WITHOUT WARRANTIES OR CONDITIONS OF ANY KIND, either express or implied.\n",
        " * See the License for the specific language governing permissions and\n",
        " * limitations under the License.\n",
        " */\n",
        "\n",
        "#ifndef MINDSPORE_LITE_TOOLS_CONVERTER_PARSER_TF_NODE_PARSER_H\n",
        "#define MINDSPORE_LITE_TOOLS_CONVERTER_PARSER_TF_NODE_PARSER_H\n",
        "\n",
        "#include <string>\n",
        "#include <map>\n",
        "#include \"tf_util.h\"\n",
        "#include \"build/proto/graph.pb.h\"\n",
        "#include \"src/ops/primitive_c.h\"\n",
        "\n",
        "namespace mindspore {\n",
        "namespace lite {\n",
        "class TFNodeParser {\n",
        " public:\n",
        "  TFNodeParser();\n",
        "\n",
        "  virtual ~TFNodeParser() {};\n",
        "\n",
        "  virtual STATUS Parse(const tensorflow::NodeDef *tf_op, const std::unique_ptr<tensorflow::GraphDef> &tf_model,\n",
        "                       PrimitiveC *primitiveC, int &output_size) {\n",
        "    return RET_OK;\n",
        "  }\n",
        "};\n",
        "}  // namespace lite\n",
        "}  // namespace mindspore\n",
        "\n",
        "#endif  // MINDSPORE_LITE_TOOLS_CONVERTER_PARSER_TF_NODE_PARSER_H\n"
      ],
      "execution_count": null,
      "outputs": []
    },
    {
      "cell_type": "code",
      "metadata": {
        "id": "vYCXgdctk_l8"
      },
      "source": [
        "/**\n",
        " * Copyright 2020 Huawei Technologies Co., Ltd\n",
        " *\n",
        " * Licensed under the Apache License, Version 2.0 (the \"License\");\n",
        " * you may not use this file except in compliance with the License.\n",
        " * You may obtain a copy of the License at\n",
        " *\n",
        " * http://www.apache.org/licenses/LICENSE-2.0\n",
        " *\n",
        " * Unless required by applicable law or agreed to in writing, software\n",
        " * distributed under the License is distributed on an \"AS IS\" BASIS,\n",
        " * WITHOUT WARRANTIES OR CONDITIONS OF ANY KIND, either express or implied.\n",
        " * See the License for the specific language governing permissions and\n",
        " * limitations under the License.\n",
        " */\n",
        "\n",
        "#ifndef MINDSPORE_LITE_TOOLS_CONVERTER_PARSER_TF_MODEL_PARSER_H\n",
        "#define MINDSPORE_LITE_TOOLS_CONVERTER_PARSER_TF_MODEL_PARSER_H\n",
        "\n",
        "#include <string>\n",
        "#include <vector>\n",
        "#include <memory>\n",
        "#include <map>\n",
        "#include <unordered_map>\n",
        "#include \"securec/include/securec.h\"\n",
        "#include \"tools/common/tensor_util.h\"\n",
        "#include \"tools/converter/model_parser.h\"\n",
        "#include \"schema/inner/model_generated.h\"\n",
        "#include \"build/proto/node_def.pb.h\"\n",
        "#include \"build/proto/graph.pb.h\"\n",
        "\n",
        "namespace mindspore {\n",
        "namespace lite {\n",
        "class TFModelParser {\n",
        " public:\n",
        "  TFModelParser() = default;\n",
        "  ~TFModelParser() = default;\n",
        "\n",
        "  FuncGraphPtr Parse(const std::string &modelFile, const std::string &weightFile, const QuantType &quantType);\n",
        "\n",
        " private:\n",
        "  STATUS ConvertConstTensor(const tensorflow::NodeDef *op, ParameterPtr parameter);\n",
        "  STATUS ConvertOutputTensor(const tensorflow::NodeDef *op, const CNodePtr &anf_node, int &output_size);\n",
        "  STATUS ConvertOps();\n",
        "  STATUS ConvertGraphInputs();\n",
        "  STATUS ConvertGraphOutputs();\n",
        "\n",
        "  std::string GetOriginInputName(const tensorflow::NodeDef &node);\n",
        "\n",
        "  void ClipIdentityAndStopGradient();\n",
        "\n",
        "  FuncGraphPtr funcGraphPtr;\n",
        "  std::unique_ptr<tensorflow::GraphDef> tf_graph_def;\n",
        "  std::map<std::string, const tensorflow::NodeDef *> tf_node_map;\n",
        "  std::unordered_map<std::string, AnfNodePtr> anf_node_map;\n",
        "  std::vector<std::string> graph_input_names, graphOutputNames;\n",
        "};\n",
        "}  // namespace lite\n",
        "}  // namespace mindspore\n",
        "\n",
        "#endif  // MINDSPORE_LITE_TOOLS_CONVERTER_PARSER_TF_MODEL_PARSER_H\n"
      ],
      "execution_count": null,
      "outputs": []
    },
    {
      "cell_type": "code",
      "metadata": {
        "id": "2e_AU97aLkOd"
      },
      "source": [
        "/**\n",
        " * Copyright 2020 Huawei Technologies Co., Ltd\n",
        " *\n",
        " * Licensed under the Apache License, Version 2.0 (the \"License\");\n",
        " * you may not use this file except in compliance with the License.\n",
        " * You may obtain a copy of the License at\n",
        " *\n",
        " * http://www.apache.org/licenses/LICENSE-2.0\n",
        " *\n",
        " * Unless required by applicable law or agreed to in writing, software\n",
        " * distributed under the License is distributed on an \"AS IS\" BASIS,\n",
        " * WITHOUT WARRANTIES OR CONDITIONS OF ANY KIND, either express or implied.\n",
        " * See the License for the specific language governing permissions and\n",
        " * limitations under the License.\n",
        " */\n",
        "\n",
        "#ifndef MINDSPORE_LITE_TOOLS_CONVERTER_PARSER_TF_UTIL_H\n",
        "#define MINDSPORE_LITE_TOOLS_CONVERTER_PARSER_TF_UTIL_H\n",
        "\n",
        "#include <string>\n",
        "#include \"build/proto/node_def.pb.h\"\n",
        "#include \"ir/dtype/type_id.h\"\n",
        "#include \"include/errorcode.h\"\n",
        "\n",
        "namespace mindspore {\n",
        "namespace lite {\n",
        "class TensorFlowUtils {\n",
        " public:\n",
        "  static bool FindAttrValue(const tensorflow::NodeDef *nodeDef, std::string attr_name,\n",
        "                            tensorflow::AttrValue &attr_value);\n",
        "\n",
        "  static bool TfReadProtoFromBinary(const char *filepath, google::protobuf::Message *message);\n",
        "\n",
        "  static STATUS ParseDataType(const tensorflow::NodeDef *nodeDef, std::string attr_name, TypeId &data_type);\n",
        "};\n",
        "}  // namespace lite\n",
        "}  // namespace mindspore\n",
        "\n",
        "#endif  // MINDSPORE_LITE_TOOLS_CONVERTER_PARSER_TF_UTIL_H\n"
      ],
      "execution_count": null,
      "outputs": []
    }
  ]
}